{
 "cells": [
  {
   "cell_type": "code",
   "execution_count": 1,
   "metadata": {},
   "outputs": [],
   "source": [
    "import pandas as pd\n",
    "import numpy as np\n",
    "import matplotlib.pyplot as plt\n",
    "import seaborn as sns"
   ]
  },
  {
   "cell_type": "code",
   "execution_count": 2,
   "metadata": {},
   "outputs": [],
   "source": [
    "df=pd.read_csv(\"Churn_Modelling.csv\")"
   ]
  },
  {
   "cell_type": "code",
   "execution_count": 3,
   "metadata": {},
   "outputs": [
    {
     "data": {
      "text/html": [
       "<div>\n",
       "<style scoped>\n",
       "    .dataframe tbody tr th:only-of-type {\n",
       "        vertical-align: middle;\n",
       "    }\n",
       "\n",
       "    .dataframe tbody tr th {\n",
       "        vertical-align: top;\n",
       "    }\n",
       "\n",
       "    .dataframe thead th {\n",
       "        text-align: right;\n",
       "    }\n",
       "</style>\n",
       "<table border=\"1\" class=\"dataframe\">\n",
       "  <thead>\n",
       "    <tr style=\"text-align: right;\">\n",
       "      <th></th>\n",
       "      <th>RowNumber</th>\n",
       "      <th>CustomerId</th>\n",
       "      <th>Surname</th>\n",
       "      <th>CreditScore</th>\n",
       "      <th>Geography</th>\n",
       "      <th>Gender</th>\n",
       "      <th>Age</th>\n",
       "      <th>Tenure</th>\n",
       "      <th>Balance</th>\n",
       "      <th>NumOfProducts</th>\n",
       "      <th>HasCrCard</th>\n",
       "      <th>IsActiveMember</th>\n",
       "      <th>EstimatedSalary</th>\n",
       "      <th>Exited</th>\n",
       "    </tr>\n",
       "  </thead>\n",
       "  <tbody>\n",
       "    <tr>\n",
       "      <th>9995</th>\n",
       "      <td>9996</td>\n",
       "      <td>15606229</td>\n",
       "      <td>Obijiaku</td>\n",
       "      <td>771</td>\n",
       "      <td>France</td>\n",
       "      <td>Male</td>\n",
       "      <td>39</td>\n",
       "      <td>5</td>\n",
       "      <td>0.00</td>\n",
       "      <td>2</td>\n",
       "      <td>1</td>\n",
       "      <td>0</td>\n",
       "      <td>96270.64</td>\n",
       "      <td>0</td>\n",
       "    </tr>\n",
       "    <tr>\n",
       "      <th>9996</th>\n",
       "      <td>9997</td>\n",
       "      <td>15569892</td>\n",
       "      <td>Johnstone</td>\n",
       "      <td>516</td>\n",
       "      <td>France</td>\n",
       "      <td>Male</td>\n",
       "      <td>35</td>\n",
       "      <td>10</td>\n",
       "      <td>57369.61</td>\n",
       "      <td>1</td>\n",
       "      <td>1</td>\n",
       "      <td>1</td>\n",
       "      <td>101699.77</td>\n",
       "      <td>0</td>\n",
       "    </tr>\n",
       "    <tr>\n",
       "      <th>9997</th>\n",
       "      <td>9998</td>\n",
       "      <td>15584532</td>\n",
       "      <td>Liu</td>\n",
       "      <td>709</td>\n",
       "      <td>France</td>\n",
       "      <td>Female</td>\n",
       "      <td>36</td>\n",
       "      <td>7</td>\n",
       "      <td>0.00</td>\n",
       "      <td>1</td>\n",
       "      <td>0</td>\n",
       "      <td>1</td>\n",
       "      <td>42085.58</td>\n",
       "      <td>1</td>\n",
       "    </tr>\n",
       "    <tr>\n",
       "      <th>9998</th>\n",
       "      <td>9999</td>\n",
       "      <td>15682355</td>\n",
       "      <td>Sabbatini</td>\n",
       "      <td>772</td>\n",
       "      <td>Germany</td>\n",
       "      <td>Male</td>\n",
       "      <td>42</td>\n",
       "      <td>3</td>\n",
       "      <td>75075.31</td>\n",
       "      <td>2</td>\n",
       "      <td>1</td>\n",
       "      <td>0</td>\n",
       "      <td>92888.52</td>\n",
       "      <td>1</td>\n",
       "    </tr>\n",
       "    <tr>\n",
       "      <th>9999</th>\n",
       "      <td>10000</td>\n",
       "      <td>15628319</td>\n",
       "      <td>Walker</td>\n",
       "      <td>792</td>\n",
       "      <td>France</td>\n",
       "      <td>Female</td>\n",
       "      <td>28</td>\n",
       "      <td>4</td>\n",
       "      <td>130142.79</td>\n",
       "      <td>1</td>\n",
       "      <td>1</td>\n",
       "      <td>0</td>\n",
       "      <td>38190.78</td>\n",
       "      <td>0</td>\n",
       "    </tr>\n",
       "  </tbody>\n",
       "</table>\n",
       "</div>"
      ],
      "text/plain": [
       "      RowNumber  CustomerId    Surname  CreditScore Geography  Gender  Age  \\\n",
       "9995       9996    15606229   Obijiaku          771    France    Male   39   \n",
       "9996       9997    15569892  Johnstone          516    France    Male   35   \n",
       "9997       9998    15584532        Liu          709    France  Female   36   \n",
       "9998       9999    15682355  Sabbatini          772   Germany    Male   42   \n",
       "9999      10000    15628319     Walker          792    France  Female   28   \n",
       "\n",
       "      Tenure    Balance  NumOfProducts  HasCrCard  IsActiveMember  \\\n",
       "9995       5       0.00              2          1               0   \n",
       "9996      10   57369.61              1          1               1   \n",
       "9997       7       0.00              1          0               1   \n",
       "9998       3   75075.31              2          1               0   \n",
       "9999       4  130142.79              1          1               0   \n",
       "\n",
       "      EstimatedSalary  Exited  \n",
       "9995         96270.64       0  \n",
       "9996        101699.77       0  \n",
       "9997         42085.58       1  \n",
       "9998         92888.52       1  \n",
       "9999         38190.78       0  "
      ]
     },
     "execution_count": 3,
     "metadata": {},
     "output_type": "execute_result"
    }
   ],
   "source": [
    "df.tail()"
   ]
  },
  {
   "cell_type": "code",
   "execution_count": 4,
   "metadata": {},
   "outputs": [],
   "source": [
    "x=df.iloc[:,3:13].values\n",
    "y=df.iloc[:,13:].values"
   ]
  },
  {
   "cell_type": "code",
   "execution_count": 5,
   "metadata": {},
   "outputs": [
    {
     "data": {
      "text/plain": [
       "(10000, 10)"
      ]
     },
     "execution_count": 5,
     "metadata": {},
     "output_type": "execute_result"
    }
   ],
   "source": [
    "x.shape"
   ]
  },
  {
   "cell_type": "code",
   "execution_count": 6,
   "metadata": {},
   "outputs": [
    {
     "data": {
      "text/plain": [
       "array([[1],\n",
       "       [0],\n",
       "       [1],\n",
       "       ...,\n",
       "       [1],\n",
       "       [1],\n",
       "       [0]], dtype=int64)"
      ]
     },
     "execution_count": 6,
     "metadata": {},
     "output_type": "execute_result"
    }
   ],
   "source": [
    "y"
   ]
  },
  {
   "cell_type": "code",
   "execution_count": 7,
   "metadata": {},
   "outputs": [],
   "source": [
    "from sklearn.preprocessing import LabelEncoder"
   ]
  },
  {
   "cell_type": "code",
   "execution_count": 8,
   "metadata": {},
   "outputs": [],
   "source": [
    "lb=LabelEncoder()"
   ]
  },
  {
   "cell_type": "code",
   "execution_count": 9,
   "metadata": {},
   "outputs": [],
   "source": [
    "x[:,1]=lb.fit_transform(x[:,1])"
   ]
  },
  {
   "cell_type": "code",
   "execution_count": 10,
   "metadata": {},
   "outputs": [],
   "source": [
    "x[:,2]=lb.fit_transform(x[:,2])"
   ]
  },
  {
   "cell_type": "code",
   "execution_count": 11,
   "metadata": {},
   "outputs": [
    {
     "data": {
      "text/plain": [
       "array([[619, 0, 0, ..., 1, 1, 101348.88],\n",
       "       [608, 2, 0, ..., 0, 1, 112542.58],\n",
       "       [502, 0, 0, ..., 1, 0, 113931.57],\n",
       "       ...,\n",
       "       [709, 0, 0, ..., 0, 1, 42085.58],\n",
       "       [772, 1, 1, ..., 1, 0, 92888.52],\n",
       "       [792, 0, 0, ..., 1, 0, 38190.78]], dtype=object)"
      ]
     },
     "execution_count": 11,
     "metadata": {},
     "output_type": "execute_result"
    }
   ],
   "source": [
    "x"
   ]
  },
  {
   "cell_type": "code",
   "execution_count": 12,
   "metadata": {},
   "outputs": [],
   "source": [
    "from sklearn.preprocessing import OneHotEncoder"
   ]
  },
  {
   "cell_type": "code",
   "execution_count": 13,
   "metadata": {},
   "outputs": [],
   "source": [
    "one=OneHotEncoder(categorical_features=[1])"
   ]
  },
  {
   "cell_type": "code",
   "execution_count": 14,
   "metadata": {},
   "outputs": [],
   "source": [
    "x=one.fit_transform(x).toarray()"
   ]
  },
  {
   "cell_type": "code",
   "execution_count": 15,
   "metadata": {},
   "outputs": [
    {
     "data": {
      "text/plain": [
       "array([[1.0000000e+00, 0.0000000e+00, 0.0000000e+00, ..., 1.0000000e+00,\n",
       "        1.0000000e+00, 1.0134888e+05],\n",
       "       [0.0000000e+00, 0.0000000e+00, 1.0000000e+00, ..., 0.0000000e+00,\n",
       "        1.0000000e+00, 1.1254258e+05],\n",
       "       [1.0000000e+00, 0.0000000e+00, 0.0000000e+00, ..., 1.0000000e+00,\n",
       "        0.0000000e+00, 1.1393157e+05],\n",
       "       ...,\n",
       "       [1.0000000e+00, 0.0000000e+00, 0.0000000e+00, ..., 0.0000000e+00,\n",
       "        1.0000000e+00, 4.2085580e+04],\n",
       "       [0.0000000e+00, 1.0000000e+00, 0.0000000e+00, ..., 1.0000000e+00,\n",
       "        0.0000000e+00, 9.2888520e+04],\n",
       "       [1.0000000e+00, 0.0000000e+00, 0.0000000e+00, ..., 1.0000000e+00,\n",
       "        0.0000000e+00, 3.8190780e+04]])"
      ]
     },
     "execution_count": 15,
     "metadata": {},
     "output_type": "execute_result"
    }
   ],
   "source": [
    "x"
   ]
  },
  {
   "cell_type": "code",
   "execution_count": 16,
   "metadata": {},
   "outputs": [],
   "source": [
    "x=x[:,1:]"
   ]
  },
  {
   "cell_type": "code",
   "execution_count": 17,
   "metadata": {},
   "outputs": [
    {
     "data": {
      "text/plain": [
       "(10000, 11)"
      ]
     },
     "execution_count": 17,
     "metadata": {},
     "output_type": "execute_result"
    }
   ],
   "source": [
    "x.shape"
   ]
  },
  {
   "cell_type": "code",
   "execution_count": 18,
   "metadata": {},
   "outputs": [],
   "source": [
    "from sklearn.model_selection import train_test_split"
   ]
  },
  {
   "cell_type": "code",
   "execution_count": 19,
   "metadata": {},
   "outputs": [],
   "source": [
    "x_train,x_test,y_train,y_test=train_test_split(x,y,test_size=0.2)"
   ]
  },
  {
   "cell_type": "code",
   "execution_count": 20,
   "metadata": {},
   "outputs": [
    {
     "data": {
      "text/plain": [
       "(8000, 11)"
      ]
     },
     "execution_count": 20,
     "metadata": {},
     "output_type": "execute_result"
    }
   ],
   "source": [
    "x_train.shape"
   ]
  },
  {
   "cell_type": "code",
   "execution_count": 21,
   "metadata": {},
   "outputs": [],
   "source": [
    "from sklearn.preprocessing import MinMaxScaler"
   ]
  },
  {
   "cell_type": "code",
   "execution_count": 22,
   "metadata": {},
   "outputs": [],
   "source": [
    "mnmx=MinMaxScaler()"
   ]
  },
  {
   "cell_type": "code",
   "execution_count": 23,
   "metadata": {},
   "outputs": [],
   "source": [
    "x_train=mnmx.fit_transform(x_train)\n",
    "x_test=mnmx.transform(x_test)"
   ]
  },
  {
   "cell_type": "code",
   "execution_count": 24,
   "metadata": {},
   "outputs": [
    {
     "name": "stderr",
     "output_type": "stream",
     "text": [
      "C:\\ProgramData\\Anaconda3\\lib\\site-packages\\h5py\\__init__.py:36: FutureWarning: Conversion of the second argument of issubdtype from `float` to `np.floating` is deprecated. In future, it will be treated as `np.float64 == np.dtype(float).type`.\n",
      "  from ._conv import register_converters as _register_converters\n"
     ]
    }
   ],
   "source": [
    "import tensorflow as tf"
   ]
  },
  {
   "cell_type": "code",
   "execution_count": 25,
   "metadata": {},
   "outputs": [
    {
     "name": "stderr",
     "output_type": "stream",
     "text": [
      "Using TensorFlow backend.\n"
     ]
    }
   ],
   "source": [
    "import keras as ks"
   ]
  },
  {
   "cell_type": "markdown",
   "metadata": {},
   "source": [
    "## ***Step - 1 - Importing Libraries***"
   ]
  },
  {
   "cell_type": "code",
   "execution_count": 26,
   "metadata": {},
   "outputs": [],
   "source": [
    "from keras.models import Sequential  ## Importing the required functions from the keras package for initializing the model\n",
    "from keras.layers import Dense  ## Dense class to add layers to the neural network"
   ]
  },
  {
   "cell_type": "markdown",
   "metadata": {},
   "source": [
    "## ***Step - 2 - Initialize the Neural N/W Model***"
   ]
  },
  {
   "cell_type": "code",
   "execution_count": 27,
   "metadata": {},
   "outputs": [],
   "source": [
    "model=Sequential()  # Create the instance of the model"
   ]
  },
  {
   "cell_type": "markdown",
   "metadata": {},
   "source": [
    "## ***Step - 3 - Add Input Layer***"
   ]
  },
  {
   "cell_type": "code",
   "execution_count": 28,
   "metadata": {},
   "outputs": [
    {
     "name": "stdout",
     "output_type": "stream",
     "text": [
      "WARNING:tensorflow:From C:\\ProgramData\\Anaconda3\\lib\\site-packages\\tensorflow\\python\\framework\\op_def_library.py:263: colocate_with (from tensorflow.python.framework.ops) is deprecated and will be removed in a future version.\n",
      "Instructions for updating:\n",
      "Colocations handled automatically by placer.\n"
     ]
    },
    {
     "name": "stderr",
     "output_type": "stream",
     "text": [
      "C:\\ProgramData\\Anaconda3\\lib\\site-packages\\ipykernel_launcher.py:3: UserWarning: Update your `Dense` call to the Keras 2 API: `Dense(input_dim=11, activation=\"relu\", units=50, kernel_initializer=\"random_uniform\")`\n",
      "  This is separate from the ipykernel package so we can avoid doing imports until\n"
     ]
    }
   ],
   "source": [
    "#Add method in Sequential class is used to add layers to the model\n",
    "\n",
    "model.add(Dense(input_dim=11,init=\"random_uniform\",activation=\"relu\",output_dim=50))  \n",
    "\n",
    "## input_dim defines the number of neurons in that layer  \n",
    "## init parameter is used to define weights intialization strategy\n",
    "## using relu activation function, the negative values are made zero\n",
    "## output_dim defines the number of neurons in the next layers. It depends on the input_dim - half of the input_dim"
   ]
  },
  {
   "cell_type": "markdown",
   "metadata": {},
   "source": [
    "## ***Step - 4 - Add Hidden Layer***"
   ]
  },
  {
   "cell_type": "code",
   "execution_count": 29,
   "metadata": {},
   "outputs": [
    {
     "name": "stderr",
     "output_type": "stream",
     "text": [
      "C:\\ProgramData\\Anaconda3\\lib\\site-packages\\ipykernel_launcher.py:1: UserWarning: Update your `Dense` call to the Keras 2 API: `Dense(activation=\"relu\", units=30, kernel_initializer=\"random_uniform\")`\n",
      "  \"\"\"Entry point for launching an IPython kernel.\n"
     ]
    }
   ],
   "source": [
    "model.add(Dense(init=\"random_uniform\",activation=\"relu\",output_dim=30))  \n",
    "\n",
    "## Adding hidden layer ti the network. --> input_dim is not required since it is specified in the previous code"
   ]
  },
  {
   "cell_type": "markdown",
   "metadata": {},
   "source": [
    "## ***Step - 5 - Add Outpur Layer***"
   ]
  },
  {
   "cell_type": "code",
   "execution_count": 30,
   "metadata": {},
   "outputs": [
    {
     "name": "stderr",
     "output_type": "stream",
     "text": [
      "C:\\ProgramData\\Anaconda3\\lib\\site-packages\\ipykernel_launcher.py:1: UserWarning: Update your `Dense` call to the Keras 2 API: `Dense(activation=\"sigmoid\", units=1, kernel_initializer=\"random_uniform\")`\n",
      "  \"\"\"Entry point for launching an IPython kernel.\n"
     ]
    }
   ],
   "source": [
    "model.add(Dense(init=\"random_uniform\",activation=\"sigmoid\",output_dim=1))\n",
    "\n",
    "## Since the output is binary the activation fumction is either threshold or sigmoid. Here we use sigmoid."
   ]
  },
  {
   "cell_type": "markdown",
   "metadata": {},
   "source": [
    "## ***Step - 6 - Compile the Neural Network Model***"
   ]
  },
  {
   "cell_type": "code",
   "execution_count": 31,
   "metadata": {},
   "outputs": [],
   "source": [
    "## while compiling the neural n/w model we can defin different strategies while training the neural network model\n",
    "## Different Strategies --> #1. Weights Updation Strategy --> # Batch Gradient Descent  \n",
    "                                                              # Stochastic Gradient Descent  \n",
    "                                                              # Mini-Batch Gradient Descent\n",
    "                            #2. Error Calculation Strategy\n",
    "                            #3. Model Performance calculation strategy                                       "
   ]
  },
  {
   "cell_type": "code",
   "execution_count": 32,
   "metadata": {},
   "outputs": [],
   "source": [
    "# Compile method is used to compile the model\n",
    "\n",
    "model.compile(optimizer=\"adam\",loss=\"binary_crossentropy\",metrics=[\"accuracy\"])  \n",
    "\n",
    "## adam is for mini-batch gradient descent\n",
    "## sgd is for stochastic gradient descent\n",
    "## Optimizer is the parameter used to mention the weight updation strategy\n",
    "## loss - error calculation strategy --> binary_crossentropy is used.\n",
    "## In Regression type of algorithm loss is **MSE**\n"
   ]
  },
  {
   "cell_type": "markdown",
   "metadata": {},
   "source": [
    "## ***Step - 7 - Train the Model***"
   ]
  },
  {
   "cell_type": "code",
   "execution_count": 33,
   "metadata": {},
   "outputs": [
    {
     "name": "stdout",
     "output_type": "stream",
     "text": [
      "WARNING:tensorflow:From C:\\ProgramData\\Anaconda3\\lib\\site-packages\\tensorflow\\python\\ops\\math_ops.py:3066: to_int32 (from tensorflow.python.ops.math_ops) is deprecated and will be removed in a future version.\n",
      "Instructions for updating:\n",
      "Use tf.cast instead.\n",
      "Epoch 1/300\n",
      "8000/8000 [==============================] - 0s 46us/step - loss: 0.5182 - acc: 0.7983\n",
      "Epoch 2/300\n",
      "8000/8000 [==============================] - 0s 26us/step - loss: 0.4545 - acc: 0.7983\n",
      "Epoch 3/300\n",
      "8000/8000 [==============================] - 0s 21us/step - loss: 0.4379 - acc: 0.8053\n",
      "Epoch 4/300\n",
      "8000/8000 [==============================] - 0s 21us/step - loss: 0.4249 - acc: 0.8189\n",
      "Epoch 5/300\n",
      "8000/8000 [==============================] - 0s 21us/step - loss: 0.4119 - acc: 0.8244\n",
      "Epoch 6/300\n",
      "8000/8000 [==============================] - 0s 20us/step - loss: 0.4012 - acc: 0.8303\n",
      "Epoch 7/300\n",
      "8000/8000 [==============================] - 0s 23us/step - loss: 0.3909 - acc: 0.8370\n",
      "Epoch 8/300\n",
      "8000/8000 [==============================] - 0s 26us/step - loss: 0.3815 - acc: 0.8440\n",
      "Epoch 9/300\n",
      "8000/8000 [==============================] - 0s 27us/step - loss: 0.3733 - acc: 0.8474\n",
      "Epoch 10/300\n",
      "8000/8000 [==============================] - 0s 19us/step - loss: 0.3668 - acc: 0.8515\n",
      "Epoch 11/300\n",
      "8000/8000 [==============================] - 0s 20us/step - loss: 0.3612 - acc: 0.8540\n",
      "Epoch 12/300\n",
      "8000/8000 [==============================] - 0s 21us/step - loss: 0.3581 - acc: 0.8543\n",
      "Epoch 13/300\n",
      "8000/8000 [==============================] - 0s 20us/step - loss: 0.3546 - acc: 0.8569\n",
      "Epoch 14/300\n",
      "8000/8000 [==============================] - 0s 21us/step - loss: 0.3517 - acc: 0.8578\n",
      "Epoch 15/300\n",
      "8000/8000 [==============================] - 0s 20us/step - loss: 0.3505 - acc: 0.8564\n",
      "Epoch 16/300\n",
      "8000/8000 [==============================] - 0s 23us/step - loss: 0.3502 - acc: 0.8561\n",
      "Epoch 17/300\n",
      "8000/8000 [==============================] - 0s 19us/step - loss: 0.3482 - acc: 0.8572\n",
      "Epoch 18/300\n",
      "8000/8000 [==============================] - 0s 20us/step - loss: 0.3466 - acc: 0.8585\n",
      "Epoch 19/300\n",
      "8000/8000 [==============================] - 0s 19us/step - loss: 0.3470 - acc: 0.8601\n",
      "Epoch 20/300\n",
      "8000/8000 [==============================] - 0s 20us/step - loss: 0.3470 - acc: 0.8585\n",
      "Epoch 21/300\n",
      "8000/8000 [==============================] - 0s 19us/step - loss: 0.3442 - acc: 0.8580\n",
      "Epoch 22/300\n",
      "8000/8000 [==============================] - 0s 20us/step - loss: 0.3451 - acc: 0.8591\n",
      "Epoch 23/300\n",
      "8000/8000 [==============================] - 0s 21us/step - loss: 0.3443 - acc: 0.8598\n",
      "Epoch 24/300\n",
      "8000/8000 [==============================] - 0s 21us/step - loss: 0.3443 - acc: 0.8592\n",
      "Epoch 25/300\n",
      "8000/8000 [==============================] - 0s 20us/step - loss: 0.3442 - acc: 0.8618\n",
      "Epoch 26/300\n",
      "8000/8000 [==============================] - 0s 20us/step - loss: 0.3434 - acc: 0.8582\n",
      "Epoch 27/300\n",
      "8000/8000 [==============================] - 0s 20us/step - loss: 0.3426 - acc: 0.8609\n",
      "Epoch 28/300\n",
      "8000/8000 [==============================] - 0s 20us/step - loss: 0.3437 - acc: 0.8603\n",
      "Epoch 29/300\n",
      "8000/8000 [==============================] - 0s 22us/step - loss: 0.3436 - acc: 0.8603\n",
      "Epoch 30/300\n",
      "8000/8000 [==============================] - 0s 21us/step - loss: 0.3422 - acc: 0.8582\n",
      "Epoch 31/300\n",
      "8000/8000 [==============================] - 0s 20us/step - loss: 0.3413 - acc: 0.8596\n",
      "Epoch 32/300\n",
      "8000/8000 [==============================] - 0s 20us/step - loss: 0.3420 - acc: 0.8604\n",
      "Epoch 33/300\n",
      "8000/8000 [==============================] - 0s 20us/step - loss: 0.3428 - acc: 0.8585\n",
      "Epoch 34/300\n",
      "8000/8000 [==============================] - 0s 20us/step - loss: 0.3408 - acc: 0.8611\n",
      "Epoch 35/300\n",
      "8000/8000 [==============================] - 0s 20us/step - loss: 0.3401 - acc: 0.8586\n",
      "Epoch 36/300\n",
      "8000/8000 [==============================] - 0s 22us/step - loss: 0.3405 - acc: 0.8625\n",
      "Epoch 37/300\n",
      "8000/8000 [==============================] - 0s 21us/step - loss: 0.3420 - acc: 0.8581\n",
      "Epoch 38/300\n",
      "8000/8000 [==============================] - 0s 20us/step - loss: 0.3406 - acc: 0.8598\n",
      "Epoch 39/300\n",
      "8000/8000 [==============================] - 0s 21us/step - loss: 0.3393 - acc: 0.8613\n",
      "Epoch 40/300\n",
      "8000/8000 [==============================] - 0s 20us/step - loss: 0.3394 - acc: 0.8624\n",
      "Epoch 41/300\n",
      "8000/8000 [==============================] - 0s 20us/step - loss: 0.3379 - acc: 0.8622\n",
      "Epoch 42/300\n",
      "8000/8000 [==============================] - 0s 19us/step - loss: 0.3403 - acc: 0.8604\n",
      "Epoch 43/300\n",
      "8000/8000 [==============================] - 0s 23us/step - loss: 0.3399 - acc: 0.8575\n",
      "Epoch 44/300\n",
      "8000/8000 [==============================] - 0s 19us/step - loss: 0.3370 - acc: 0.8630\n",
      "Epoch 45/300\n",
      "8000/8000 [==============================] - 0s 20us/step - loss: 0.3395 - acc: 0.8604\n",
      "Epoch 46/300\n",
      "8000/8000 [==============================] - 0s 19us/step - loss: 0.3376 - acc: 0.8615\n",
      "Epoch 47/300\n",
      "8000/8000 [==============================] - 0s 21us/step - loss: 0.3359 - acc: 0.8621\n",
      "Epoch 48/300\n",
      "8000/8000 [==============================] - 0s 20us/step - loss: 0.3365 - acc: 0.8613\n",
      "Epoch 49/300\n",
      "8000/8000 [==============================] - 0s 21us/step - loss: 0.3352 - acc: 0.8616\n",
      "Epoch 50/300\n",
      "8000/8000 [==============================] - 0s 20us/step - loss: 0.3367 - acc: 0.8616\n",
      "Epoch 51/300\n",
      "8000/8000 [==============================] - 0s 21us/step - loss: 0.3350 - acc: 0.8615\n",
      "Epoch 52/300\n",
      "8000/8000 [==============================] - 0s 19us/step - loss: 0.3359 - acc: 0.8620\n",
      "Epoch 53/300\n",
      "8000/8000 [==============================] - 0s 19us/step - loss: 0.3359 - acc: 0.8632\n",
      "Epoch 54/300\n",
      "8000/8000 [==============================] - 0s 20us/step - loss: 0.3349 - acc: 0.8631\n",
      "Epoch 55/300\n",
      "8000/8000 [==============================] - 0s 21us/step - loss: 0.3348 - acc: 0.8636\n",
      "Epoch 56/300\n",
      "8000/8000 [==============================] - 0s 20us/step - loss: 0.3337 - acc: 0.8624\n",
      "Epoch 57/300\n",
      "8000/8000 [==============================] - 0s 19us/step - loss: 0.3350 - acc: 0.8649\n",
      "Epoch 58/300\n",
      "8000/8000 [==============================] - 0s 20us/step - loss: 0.3341 - acc: 0.8629\n",
      "Epoch 59/300\n",
      "8000/8000 [==============================] - 0s 19us/step - loss: 0.3348 - acc: 0.8621\n",
      "Epoch 60/300\n",
      "8000/8000 [==============================] - 0s 20us/step - loss: 0.3338 - acc: 0.8639\n",
      "Epoch 61/300\n",
      "8000/8000 [==============================] - 0s 19us/step - loss: 0.3317 - acc: 0.8635\n",
      "Epoch 62/300\n",
      "8000/8000 [==============================] - 0s 21us/step - loss: 0.3318 - acc: 0.8641\n",
      "Epoch 63/300\n",
      "8000/8000 [==============================] - 0s 20us/step - loss: 0.3304 - acc: 0.8629\n",
      "Epoch 64/300\n",
      "8000/8000 [==============================] - 0s 20us/step - loss: 0.3307 - acc: 0.8659\n",
      "Epoch 65/300\n",
      "8000/8000 [==============================] - 0s 22us/step - loss: 0.3301 - acc: 0.8606\n",
      "Epoch 66/300\n",
      "8000/8000 [==============================] - 0s 20us/step - loss: 0.3311 - acc: 0.8630\n",
      "Epoch 67/300\n",
      "8000/8000 [==============================] - 0s 19us/step - loss: 0.3312 - acc: 0.8638\n",
      "Epoch 68/300\n",
      "8000/8000 [==============================] - 0s 20us/step - loss: 0.3317 - acc: 0.8646\n",
      "Epoch 69/300\n",
      "8000/8000 [==============================] - 0s 21us/step - loss: 0.3296 - acc: 0.8660\n",
      "Epoch 70/300\n",
      "8000/8000 [==============================] - 0s 20us/step - loss: 0.3321 - acc: 0.8642\n",
      "Epoch 71/300\n",
      "8000/8000 [==============================] - 0s 20us/step - loss: 0.3302 - acc: 0.8649\n",
      "Epoch 72/300\n",
      "8000/8000 [==============================] - 0s 20us/step - loss: 0.3287 - acc: 0.8642\n",
      "Epoch 73/300\n",
      "8000/8000 [==============================] - 0s 19us/step - loss: 0.3307 - acc: 0.8630\n",
      "Epoch 74/300\n",
      "8000/8000 [==============================] - 0s 21us/step - loss: 0.3284 - acc: 0.8646\n",
      "Epoch 75/300\n",
      "8000/8000 [==============================] - 0s 21us/step - loss: 0.3287 - acc: 0.8632\n",
      "Epoch 76/300\n",
      "8000/8000 [==============================] - 0s 22us/step - loss: 0.3300 - acc: 0.8644\n",
      "Epoch 77/300\n",
      "8000/8000 [==============================] - 0s 19us/step - loss: 0.3282 - acc: 0.8658\n",
      "Epoch 78/300\n",
      "8000/8000 [==============================] - 0s 20us/step - loss: 0.3291 - acc: 0.8661\n",
      "Epoch 79/300\n",
      "8000/8000 [==============================] - 0s 19us/step - loss: 0.3277 - acc: 0.8670\n",
      "Epoch 80/300\n"
     ]
    },
    {
     "name": "stdout",
     "output_type": "stream",
     "text": [
      "8000/8000 [==============================] - 0s 21us/step - loss: 0.3264 - acc: 0.8658\n",
      "Epoch 81/300\n",
      "8000/8000 [==============================] - 0s 19us/step - loss: 0.3281 - acc: 0.8641\n",
      "Epoch 82/300\n",
      "8000/8000 [==============================] - 0s 19us/step - loss: 0.3294 - acc: 0.8654\n",
      "Epoch 83/300\n",
      "8000/8000 [==============================] - 0s 21us/step - loss: 0.3287 - acc: 0.8636\n",
      "Epoch 84/300\n",
      "8000/8000 [==============================] - 0s 21us/step - loss: 0.3276 - acc: 0.8652\n",
      "Epoch 85/300\n",
      "8000/8000 [==============================] - 0s 21us/step - loss: 0.3283 - acc: 0.8655\n",
      "Epoch 86/300\n",
      "8000/8000 [==============================] - 0s 21us/step - loss: 0.3278 - acc: 0.8647\n",
      "Epoch 87/300\n",
      "8000/8000 [==============================] - 0s 23us/step - loss: 0.3297 - acc: 0.8626\n",
      "Epoch 88/300\n",
      "8000/8000 [==============================] - 0s 21us/step - loss: 0.3261 - acc: 0.8664\n",
      "Epoch 89/300\n",
      "8000/8000 [==============================] - 0s 21us/step - loss: 0.3261 - acc: 0.8673\n",
      "Epoch 90/300\n",
      "8000/8000 [==============================] - 0s 20us/step - loss: 0.3264 - acc: 0.8638\n",
      "Epoch 91/300\n",
      "8000/8000 [==============================] - 0s 19us/step - loss: 0.3263 - acc: 0.8650\n",
      "Epoch 92/300\n",
      "8000/8000 [==============================] - 0s 19us/step - loss: 0.3271 - acc: 0.8630\n",
      "Epoch 93/300\n",
      "8000/8000 [==============================] - 0s 20us/step - loss: 0.3270 - acc: 0.8652\n",
      "Epoch 94/300\n",
      "8000/8000 [==============================] - 0s 20us/step - loss: 0.3255 - acc: 0.8645\n",
      "Epoch 95/300\n",
      "8000/8000 [==============================] - 0s 22us/step - loss: 0.3257 - acc: 0.8664\n",
      "Epoch 96/300\n",
      "8000/8000 [==============================] - 0s 20us/step - loss: 0.3268 - acc: 0.8664\n",
      "Epoch 97/300\n",
      "8000/8000 [==============================] - 0s 20us/step - loss: 0.3255 - acc: 0.8661\n",
      "Epoch 98/300\n",
      "8000/8000 [==============================] - 0s 19us/step - loss: 0.3269 - acc: 0.8652\n",
      "Epoch 99/300\n",
      "8000/8000 [==============================] - 0s 20us/step - loss: 0.3259 - acc: 0.8678\n",
      "Epoch 100/300\n",
      "8000/8000 [==============================] - 0s 19us/step - loss: 0.3247 - acc: 0.8669\n",
      "Epoch 101/300\n",
      "8000/8000 [==============================] - 0s 19us/step - loss: 0.3260 - acc: 0.8670\n",
      "Epoch 102/300\n",
      "8000/8000 [==============================] - 0s 20us/step - loss: 0.3242 - acc: 0.8660\n",
      "Epoch 103/300\n",
      "8000/8000 [==============================] - 0s 19us/step - loss: 0.3239 - acc: 0.8673\n",
      "Epoch 104/300\n",
      "8000/8000 [==============================] - 0s 19us/step - loss: 0.3238 - acc: 0.8663\n",
      "Epoch 105/300\n",
      "8000/8000 [==============================] - 0s 21us/step - loss: 0.3246 - acc: 0.8639\n",
      "Epoch 106/300\n",
      "8000/8000 [==============================] - 0s 19us/step - loss: 0.3228 - acc: 0.8656\n",
      "Epoch 107/300\n",
      "8000/8000 [==============================] - 0s 21us/step - loss: 0.3236 - acc: 0.8651\n",
      "Epoch 108/300\n",
      "8000/8000 [==============================] - 0s 19us/step - loss: 0.3222 - acc: 0.8661\n",
      "Epoch 109/300\n",
      "8000/8000 [==============================] - 0s 22us/step - loss: 0.3244 - acc: 0.8647\n",
      "Epoch 110/300\n",
      "8000/8000 [==============================] - 0s 19us/step - loss: 0.3226 - acc: 0.8666\n",
      "Epoch 111/300\n",
      "8000/8000 [==============================] - 0s 20us/step - loss: 0.3236 - acc: 0.8655\n",
      "Epoch 112/300\n",
      "8000/8000 [==============================] - 0s 19us/step - loss: 0.3226 - acc: 0.8639\n",
      "Epoch 113/300\n",
      "8000/8000 [==============================] - 0s 19us/step - loss: 0.3226 - acc: 0.8652\n",
      "Epoch 114/300\n",
      "8000/8000 [==============================] - 0s 19us/step - loss: 0.3219 - acc: 0.8682\n",
      "Epoch 115/300\n",
      "8000/8000 [==============================] - 0s 19us/step - loss: 0.3227 - acc: 0.8670\n",
      "Epoch 116/300\n",
      "8000/8000 [==============================] - 0s 20us/step - loss: 0.3236 - acc: 0.8674\n",
      "Epoch 117/300\n",
      "8000/8000 [==============================] - 0s 19us/step - loss: 0.3231 - acc: 0.8658\n",
      "Epoch 118/300\n",
      "8000/8000 [==============================] - 0s 19us/step - loss: 0.3212 - acc: 0.8671\n",
      "Epoch 119/300\n",
      "8000/8000 [==============================] - 0s 19us/step - loss: 0.3216 - acc: 0.8675\n",
      "Epoch 120/300\n",
      "8000/8000 [==============================] - 0s 19us/step - loss: 0.3212 - acc: 0.8675\n",
      "Epoch 121/300\n",
      "8000/8000 [==============================] - 0s 19us/step - loss: 0.3207 - acc: 0.8642\n",
      "Epoch 122/300\n",
      "8000/8000 [==============================] - 0s 19us/step - loss: 0.3224 - acc: 0.8660\n",
      "Epoch 123/300\n",
      "8000/8000 [==============================] - 0s 21us/step - loss: 0.3210 - acc: 0.8664\n",
      "Epoch 124/300\n",
      "8000/8000 [==============================] - 0s 19us/step - loss: 0.3194 - acc: 0.8679\n",
      "Epoch 125/300\n",
      "8000/8000 [==============================] - 0s 19us/step - loss: 0.3204 - acc: 0.8655\n",
      "Epoch 126/300\n",
      "8000/8000 [==============================] - 0s 19us/step - loss: 0.3215 - acc: 0.8679\n",
      "Epoch 127/300\n",
      "8000/8000 [==============================] - 0s 19us/step - loss: 0.3209 - acc: 0.8675\n",
      "Epoch 128/300\n",
      "8000/8000 [==============================] - 0s 18us/step - loss: 0.3198 - acc: 0.8669\n",
      "Epoch 129/300\n",
      "8000/8000 [==============================] - 0s 19us/step - loss: 0.3214 - acc: 0.8670\n",
      "Epoch 130/300\n",
      "8000/8000 [==============================] - 0s 19us/step - loss: 0.3197 - acc: 0.8655\n",
      "Epoch 131/300\n",
      "8000/8000 [==============================] - 0s 21us/step - loss: 0.3191 - acc: 0.8678\n",
      "Epoch 132/300\n",
      "8000/8000 [==============================] - 0s 19us/step - loss: 0.3181 - acc: 0.8705\n",
      "Epoch 133/300\n",
      "8000/8000 [==============================] - 0s 19us/step - loss: 0.3212 - acc: 0.8665\n",
      "Epoch 134/300\n",
      "8000/8000 [==============================] - 0s 19us/step - loss: 0.3191 - acc: 0.8679\n",
      "Epoch 135/300\n",
      "8000/8000 [==============================] - 0s 19us/step - loss: 0.3198 - acc: 0.8682\n",
      "Epoch 136/300\n",
      "8000/8000 [==============================] - 0s 20us/step - loss: 0.3192 - acc: 0.8680\n",
      "Epoch 137/300\n",
      "8000/8000 [==============================] - 0s 20us/step - loss: 0.3213 - acc: 0.8665\n",
      "Epoch 138/300\n",
      "8000/8000 [==============================] - 0s 20us/step - loss: 0.3175 - acc: 0.8666\n",
      "Epoch 139/300\n",
      "8000/8000 [==============================] - 0s 19us/step - loss: 0.3190 - acc: 0.8689\n",
      "Epoch 140/300\n",
      "8000/8000 [==============================] - 0s 19us/step - loss: 0.3191 - acc: 0.8689\n",
      "Epoch 141/300\n",
      "8000/8000 [==============================] - 0s 19us/step - loss: 0.3178 - acc: 0.8704\n",
      "Epoch 142/300\n",
      "8000/8000 [==============================] - 0s 19us/step - loss: 0.3184 - acc: 0.8681\n",
      "Epoch 143/300\n",
      "8000/8000 [==============================] - 0s 19us/step - loss: 0.3179 - acc: 0.8676\n",
      "Epoch 144/300\n",
      "8000/8000 [==============================] - 0s 19us/step - loss: 0.3196 - acc: 0.8700\n",
      "Epoch 145/300\n",
      "8000/8000 [==============================] - 0s 20us/step - loss: 0.3181 - acc: 0.8678\n",
      "Epoch 146/300\n",
      "8000/8000 [==============================] - 0s 19us/step - loss: 0.3165 - acc: 0.8712\n",
      "Epoch 147/300\n",
      "8000/8000 [==============================] - 0s 20us/step - loss: 0.3171 - acc: 0.8698\n",
      "Epoch 148/300\n",
      "8000/8000 [==============================] - 0s 19us/step - loss: 0.3161 - acc: 0.8698\n",
      "Epoch 149/300\n",
      "8000/8000 [==============================] - 0s 20us/step - loss: 0.3174 - acc: 0.8694\n",
      "Epoch 150/300\n",
      "8000/8000 [==============================] - 0s 20us/step - loss: 0.3167 - acc: 0.8694\n",
      "Epoch 151/300\n",
      "8000/8000 [==============================] - 0s 20us/step - loss: 0.3150 - acc: 0.8699\n",
      "Epoch 152/300\n",
      "8000/8000 [==============================] - 0s 19us/step - loss: 0.3159 - acc: 0.8694\n",
      "Epoch 153/300\n",
      "8000/8000 [==============================] - 0s 19us/step - loss: 0.3162 - acc: 0.8679\n",
      "Epoch 154/300\n",
      "8000/8000 [==============================] - 0s 19us/step - loss: 0.3143 - acc: 0.8712\n",
      "Epoch 155/300\n",
      "8000/8000 [==============================] - 0s 19us/step - loss: 0.3154 - acc: 0.8723\n",
      "Epoch 156/300\n",
      "8000/8000 [==============================] - 0s 19us/step - loss: 0.3161 - acc: 0.8710\n",
      "Epoch 157/300\n",
      "8000/8000 [==============================] - 0s 22us/step - loss: 0.3161 - acc: 0.8711\n",
      "Epoch 158/300\n",
      "8000/8000 [==============================] - 0s 21us/step - loss: 0.3158 - acc: 0.8698\n",
      "Epoch 159/300\n",
      "8000/8000 [==============================] - 0s 21us/step - loss: 0.3162 - acc: 0.8692\n",
      "Epoch 160/300\n",
      "8000/8000 [==============================] - 0s 19us/step - loss: 0.3139 - acc: 0.8719\n",
      "Epoch 161/300\n"
     ]
    },
    {
     "name": "stdout",
     "output_type": "stream",
     "text": [
      "8000/8000 [==============================] - 0s 20us/step - loss: 0.3157 - acc: 0.8710\n",
      "Epoch 162/300\n",
      "8000/8000 [==============================] - 0s 19us/step - loss: 0.3138 - acc: 0.8701\n",
      "Epoch 163/300\n",
      "8000/8000 [==============================] - 0s 20us/step - loss: 0.3144 - acc: 0.8711\n",
      "Epoch 164/300\n",
      "8000/8000 [==============================] - 0s 19us/step - loss: 0.3139 - acc: 0.8704\n",
      "Epoch 165/300\n",
      "8000/8000 [==============================] - 0s 20us/step - loss: 0.3163 - acc: 0.8705\n",
      "Epoch 166/300\n",
      "8000/8000 [==============================] - 0s 21us/step - loss: 0.3126 - acc: 0.8696\n",
      "Epoch 167/300\n",
      "8000/8000 [==============================] - 0s 19us/step - loss: 0.3130 - acc: 0.8709\n",
      "Epoch 168/300\n",
      "8000/8000 [==============================] - 0s 19us/step - loss: 0.3149 - acc: 0.8686\n",
      "Epoch 169/300\n",
      "8000/8000 [==============================] - 0s 19us/step - loss: 0.3144 - acc: 0.8692\n",
      "Epoch 170/300\n",
      "8000/8000 [==============================] - 0s 22us/step - loss: 0.3158 - acc: 0.8698\n",
      "Epoch 171/300\n",
      "8000/8000 [==============================] - 0s 23us/step - loss: 0.3135 - acc: 0.8733\n",
      "Epoch 172/300\n",
      "8000/8000 [==============================] - 0s 20us/step - loss: 0.3133 - acc: 0.8721\n",
      "Epoch 173/300\n",
      "8000/8000 [==============================] - 0s 20us/step - loss: 0.3124 - acc: 0.8724\n",
      "Epoch 174/300\n",
      "8000/8000 [==============================] - 0s 19us/step - loss: 0.3113 - acc: 0.8735\n",
      "Epoch 175/300\n",
      "8000/8000 [==============================] - 0s 19us/step - loss: 0.3124 - acc: 0.8695\n",
      "Epoch 176/300\n",
      "8000/8000 [==============================] - 0s 19us/step - loss: 0.3122 - acc: 0.8695\n",
      "Epoch 177/300\n",
      "8000/8000 [==============================] - 0s 20us/step - loss: 0.3124 - acc: 0.8702\n",
      "Epoch 178/300\n",
      "8000/8000 [==============================] - 0s 20us/step - loss: 0.3134 - acc: 0.8728\n",
      "Epoch 179/300\n",
      "8000/8000 [==============================] - 0s 19us/step - loss: 0.3109 - acc: 0.8715\n",
      "Epoch 180/300\n",
      "8000/8000 [==============================] - 0s 19us/step - loss: 0.3110 - acc: 0.8712\n",
      "Epoch 181/300\n",
      "8000/8000 [==============================] - 0s 19us/step - loss: 0.3108 - acc: 0.8728\n",
      "Epoch 182/300\n",
      "8000/8000 [==============================] - 0s 19us/step - loss: 0.3151 - acc: 0.8700\n",
      "Epoch 183/300\n",
      "8000/8000 [==============================] - 0s 19us/step - loss: 0.3150 - acc: 0.8689\n",
      "Epoch 184/300\n",
      "8000/8000 [==============================] - 0s 19us/step - loss: 0.3110 - acc: 0.8710\n",
      "Epoch 185/300\n",
      "8000/8000 [==============================] - 0s 21us/step - loss: 0.3108 - acc: 0.8731\n",
      "Epoch 186/300\n",
      "8000/8000 [==============================] - 0s 19us/step - loss: 0.3093 - acc: 0.8742\n",
      "Epoch 187/300\n",
      "8000/8000 [==============================] - 0s 19us/step - loss: 0.3121 - acc: 0.8699\n",
      "Epoch 188/300\n",
      "8000/8000 [==============================] - 0s 19us/step - loss: 0.3121 - acc: 0.8740\n",
      "Epoch 189/300\n",
      "8000/8000 [==============================] - 0s 20us/step - loss: 0.3120 - acc: 0.8704\n",
      "Epoch 190/300\n",
      "8000/8000 [==============================] - 0s 20us/step - loss: 0.3102 - acc: 0.8742\n",
      "Epoch 191/300\n",
      "8000/8000 [==============================] - 0s 19us/step - loss: 0.3108 - acc: 0.8706\n",
      "Epoch 192/300\n",
      "8000/8000 [==============================] - 0s 19us/step - loss: 0.3101 - acc: 0.8725\n",
      "Epoch 193/300\n",
      "8000/8000 [==============================] - 0s 20us/step - loss: 0.3090 - acc: 0.8705\n",
      "Epoch 194/300\n",
      "8000/8000 [==============================] - 0s 19us/step - loss: 0.3098 - acc: 0.8690\n",
      "Epoch 195/300\n",
      "8000/8000 [==============================] - 0s 21us/step - loss: 0.3105 - acc: 0.8723\n",
      "Epoch 196/300\n",
      "8000/8000 [==============================] - 0s 20us/step - loss: 0.3113 - acc: 0.8712\n",
      "Epoch 197/300\n",
      "8000/8000 [==============================] - 0s 19us/step - loss: 0.3124 - acc: 0.8702\n",
      "Epoch 198/300\n",
      "8000/8000 [==============================] - 0s 21us/step - loss: 0.3088 - acc: 0.8714\n",
      "Epoch 199/300\n",
      "8000/8000 [==============================] - 0s 19us/step - loss: 0.3110 - acc: 0.8715\n",
      "Epoch 200/300\n",
      "8000/8000 [==============================] - 0s 19us/step - loss: 0.3098 - acc: 0.8741\n",
      "Epoch 201/300\n",
      "8000/8000 [==============================] - 0s 20us/step - loss: 0.3081 - acc: 0.8729\n",
      "Epoch 202/300\n",
      "8000/8000 [==============================] - 0s 20us/step - loss: 0.3099 - acc: 0.8717\n",
      "Epoch 203/300\n",
      "8000/8000 [==============================] - 0s 20us/step - loss: 0.3113 - acc: 0.8698\n",
      "Epoch 204/300\n",
      "8000/8000 [==============================] - 0s 19us/step - loss: 0.3085 - acc: 0.8696\n",
      "Epoch 205/300\n",
      "8000/8000 [==============================] - 0s 21us/step - loss: 0.3095 - acc: 0.8736\n",
      "Epoch 206/300\n",
      "8000/8000 [==============================] - 0s 19us/step - loss: 0.3084 - acc: 0.8721\n",
      "Epoch 207/300\n",
      "8000/8000 [==============================] - 0s 19us/step - loss: 0.3078 - acc: 0.8709\n",
      "Epoch 208/300\n",
      "8000/8000 [==============================] - 0s 19us/step - loss: 0.3101 - acc: 0.8716\n",
      "Epoch 209/300\n",
      "8000/8000 [==============================] - 0s 19us/step - loss: 0.3092 - acc: 0.8706\n",
      "Epoch 210/300\n",
      "8000/8000 [==============================] - 0s 19us/step - loss: 0.3087 - acc: 0.8739\n",
      "Epoch 211/300\n",
      "8000/8000 [==============================] - 0s 19us/step - loss: 0.3090 - acc: 0.8694\n",
      "Epoch 212/300\n",
      "8000/8000 [==============================] - 0s 21us/step - loss: 0.3077 - acc: 0.8750\n",
      "Epoch 213/300\n",
      "8000/8000 [==============================] - 0s 19us/step - loss: 0.3082 - acc: 0.8711\n",
      "Epoch 214/300\n",
      "8000/8000 [==============================] - 0s 19us/step - loss: 0.3076 - acc: 0.8733\n",
      "Epoch 215/300\n",
      "8000/8000 [==============================] - 0s 19us/step - loss: 0.3068 - acc: 0.8729\n",
      "Epoch 216/300\n",
      "8000/8000 [==============================] - 0s 19us/step - loss: 0.3084 - acc: 0.8709\n",
      "Epoch 217/300\n",
      "8000/8000 [==============================] - 0s 19us/step - loss: 0.3088 - acc: 0.8729\n",
      "Epoch 218/300\n",
      "8000/8000 [==============================] - 0s 19us/step - loss: 0.3072 - acc: 0.8736\n",
      "Epoch 219/300\n",
      "8000/8000 [==============================] - 0s 22us/step - loss: 0.3092 - acc: 0.8707\n",
      "Epoch 220/300\n",
      "8000/8000 [==============================] - 0s 19us/step - loss: 0.3094 - acc: 0.8739\n",
      "Epoch 221/300\n",
      "8000/8000 [==============================] - 0s 19us/step - loss: 0.3072 - acc: 0.8712\n",
      "Epoch 222/300\n",
      "8000/8000 [==============================] - 0s 19us/step - loss: 0.3077 - acc: 0.8748\n",
      "Epoch 223/300\n",
      "8000/8000 [==============================] - 0s 19us/step - loss: 0.3063 - acc: 0.8736\n",
      "Epoch 224/300\n",
      "8000/8000 [==============================] - 0s 19us/step - loss: 0.3084 - acc: 0.8700\n",
      "Epoch 225/300\n",
      "8000/8000 [==============================] - 0s 19us/step - loss: 0.3078 - acc: 0.8706\n",
      "Epoch 226/300\n",
      "8000/8000 [==============================] - 0s 20us/step - loss: 0.3079 - acc: 0.8734\n",
      "Epoch 227/300\n",
      "8000/8000 [==============================] - 0s 19us/step - loss: 0.3077 - acc: 0.8705\n",
      "Epoch 228/300\n",
      "8000/8000 [==============================] - 0s 19us/step - loss: 0.3050 - acc: 0.8731\n",
      "Epoch 229/300\n",
      "8000/8000 [==============================] - 0s 19us/step - loss: 0.3060 - acc: 0.8724\n",
      "Epoch 230/300\n",
      "8000/8000 [==============================] - 0s 19us/step - loss: 0.3067 - acc: 0.8733\n",
      "Epoch 231/300\n",
      "8000/8000 [==============================] - 0s 20us/step - loss: 0.3072 - acc: 0.8717\n",
      "Epoch 232/300\n",
      "8000/8000 [==============================] - 0s 19us/step - loss: 0.3047 - acc: 0.8752\n",
      "Epoch 233/300\n",
      "8000/8000 [==============================] - 0s 21us/step - loss: 0.3073 - acc: 0.8749\n",
      "Epoch 234/300\n",
      "8000/8000 [==============================] - 0s 20us/step - loss: 0.3062 - acc: 0.8726\n",
      "Epoch 235/300\n",
      "8000/8000 [==============================] - 0s 19us/step - loss: 0.3061 - acc: 0.8719\n",
      "Epoch 236/300\n",
      "8000/8000 [==============================] - 0s 19us/step - loss: 0.3062 - acc: 0.8728\n",
      "Epoch 237/300\n",
      "8000/8000 [==============================] - 0s 20us/step - loss: 0.3050 - acc: 0.8735\n",
      "Epoch 238/300\n",
      "8000/8000 [==============================] - 0s 19us/step - loss: 0.3063 - acc: 0.8704\n",
      "Epoch 239/300\n",
      "8000/8000 [==============================] - 0s 19us/step - loss: 0.3047 - acc: 0.8704\n",
      "Epoch 240/300\n",
      "8000/8000 [==============================] - 0s 19us/step - loss: 0.3042 - acc: 0.8721\n",
      "Epoch 241/300\n",
      "8000/8000 [==============================] - 0s 20us/step - loss: 0.3032 - acc: 0.8760\n",
      "Epoch 242/300\n"
     ]
    },
    {
     "name": "stdout",
     "output_type": "stream",
     "text": [
      "8000/8000 [==============================] - 0s 19us/step - loss: 0.3032 - acc: 0.8733\n",
      "Epoch 243/300\n",
      "8000/8000 [==============================] - 0s 19us/step - loss: 0.3050 - acc: 0.8710\n",
      "Epoch 244/300\n",
      "8000/8000 [==============================] - 0s 19us/step - loss: 0.3030 - acc: 0.8719\n",
      "Epoch 245/300\n",
      "8000/8000 [==============================] - 0s 19us/step - loss: 0.3062 - acc: 0.8701\n",
      "Epoch 246/300\n",
      "8000/8000 [==============================] - 0s 20us/step - loss: 0.3043 - acc: 0.8724\n",
      "Epoch 247/300\n",
      "8000/8000 [==============================] - 0s 19us/step - loss: 0.3052 - acc: 0.8724\n",
      "Epoch 248/300\n",
      "8000/8000 [==============================] - 0s 18us/step - loss: 0.3044 - acc: 0.8728\n",
      "Epoch 249/300\n",
      "8000/8000 [==============================] - 0s 19us/step - loss: 0.3027 - acc: 0.8714\n",
      "Epoch 250/300\n",
      "8000/8000 [==============================] - 0s 18us/step - loss: 0.3036 - acc: 0.8731\n",
      "Epoch 251/300\n",
      "8000/8000 [==============================] - 0s 19us/step - loss: 0.3050 - acc: 0.8750\n",
      "Epoch 252/300\n",
      "8000/8000 [==============================] - 0s 18us/step - loss: 0.3049 - acc: 0.8731\n",
      "Epoch 253/300\n",
      "8000/8000 [==============================] - 0s 20us/step - loss: 0.3024 - acc: 0.8719\n",
      "Epoch 254/300\n",
      "8000/8000 [==============================] - 0s 20us/step - loss: 0.3023 - acc: 0.8739\n",
      "Epoch 255/300\n",
      "8000/8000 [==============================] - 0s 19us/step - loss: 0.3019 - acc: 0.8758\n",
      "Epoch 256/300\n",
      "8000/8000 [==============================] - 0s 19us/step - loss: 0.3034 - acc: 0.8719\n",
      "Epoch 257/300\n",
      "8000/8000 [==============================] - 0s 20us/step - loss: 0.3026 - acc: 0.8735\n",
      "Epoch 258/300\n",
      "8000/8000 [==============================] - 0s 19us/step - loss: 0.3013 - acc: 0.8740\n",
      "Epoch 259/300\n",
      "8000/8000 [==============================] - 0s 20us/step - loss: 0.3021 - acc: 0.8739\n",
      "Epoch 260/300\n",
      "8000/8000 [==============================] - 0s 19us/step - loss: 0.3027 - acc: 0.8756\n",
      "Epoch 261/300\n",
      "8000/8000 [==============================] - 0s 23us/step - loss: 0.3027 - acc: 0.8715\n",
      "Epoch 262/300\n",
      "8000/8000 [==============================] - 0s 21us/step - loss: 0.3016 - acc: 0.8739\n",
      "Epoch 263/300\n",
      "8000/8000 [==============================] - 0s 20us/step - loss: 0.3030 - acc: 0.8726\n",
      "Epoch 264/300\n",
      "8000/8000 [==============================] - 0s 20us/step - loss: 0.3012 - acc: 0.8751\n",
      "Epoch 265/300\n",
      "8000/8000 [==============================] - 0s 19us/step - loss: 0.3046 - acc: 0.8772\n",
      "Epoch 266/300\n",
      "8000/8000 [==============================] - 0s 19us/step - loss: 0.3018 - acc: 0.8739\n",
      "Epoch 267/300\n",
      "8000/8000 [==============================] - 0s 22us/step - loss: 0.3032 - acc: 0.8705\n",
      "Epoch 268/300\n",
      "8000/8000 [==============================] - 0s 21us/step - loss: 0.3011 - acc: 0.8755\n",
      "Epoch 269/300\n",
      "8000/8000 [==============================] - 0s 20us/step - loss: 0.3027 - acc: 0.8744\n",
      "Epoch 270/300\n",
      "8000/8000 [==============================] - 0s 19us/step - loss: 0.3026 - acc: 0.8752\n",
      "Epoch 271/300\n",
      "8000/8000 [==============================] - 0s 20us/step - loss: 0.2997 - acc: 0.8760\n",
      "Epoch 272/300\n",
      "8000/8000 [==============================] - 0s 19us/step - loss: 0.3020 - acc: 0.8735\n",
      "Epoch 273/300\n",
      "8000/8000 [==============================] - 0s 19us/step - loss: 0.2998 - acc: 0.8738\n",
      "Epoch 274/300\n",
      "8000/8000 [==============================] - 0s 21us/step - loss: 0.3013 - acc: 0.8752\n",
      "Epoch 275/300\n",
      "8000/8000 [==============================] - 0s 20us/step - loss: 0.3018 - acc: 0.8749\n",
      "Epoch 276/300\n",
      "8000/8000 [==============================] - 0s 19us/step - loss: 0.3015 - acc: 0.8717\n",
      "Epoch 277/300\n",
      "8000/8000 [==============================] - 0s 20us/step - loss: 0.3017 - acc: 0.8765\n",
      "Epoch 278/300\n",
      "8000/8000 [==============================] - 0s 20us/step - loss: 0.3003 - acc: 0.8759\n",
      "Epoch 279/300\n",
      "8000/8000 [==============================] - 0s 20us/step - loss: 0.3022 - acc: 0.8738\n",
      "Epoch 280/300\n",
      "8000/8000 [==============================] - 0s 19us/step - loss: 0.3005 - acc: 0.8767\n",
      "Epoch 281/300\n",
      "8000/8000 [==============================] - 0s 21us/step - loss: 0.2997 - acc: 0.8762\n",
      "Epoch 282/300\n",
      "8000/8000 [==============================] - 0s 20us/step - loss: 0.2997 - acc: 0.8769\n",
      "Epoch 283/300\n",
      "8000/8000 [==============================] - 0s 20us/step - loss: 0.3018 - acc: 0.8746\n",
      "Epoch 284/300\n",
      "8000/8000 [==============================] - 0s 19us/step - loss: 0.3007 - acc: 0.8749\n",
      "Epoch 285/300\n",
      "8000/8000 [==============================] - 0s 20us/step - loss: 0.3017 - acc: 0.8739\n",
      "Epoch 286/300\n",
      "8000/8000 [==============================] - 0s 20us/step - loss: 0.3001 - acc: 0.8767\n",
      "Epoch 287/300\n",
      "8000/8000 [==============================] - 0s 19us/step - loss: 0.2994 - acc: 0.8771\n",
      "Epoch 288/300\n",
      "8000/8000 [==============================] - 0s 19us/step - loss: 0.3009 - acc: 0.8738\n",
      "Epoch 289/300\n",
      "8000/8000 [==============================] - 0s 19us/step - loss: 0.2985 - acc: 0.8746\n",
      "Epoch 290/300\n",
      "8000/8000 [==============================] - 0s 20us/step - loss: 0.2992 - acc: 0.8746\n",
      "Epoch 291/300\n",
      "8000/8000 [==============================] - 0s 20us/step - loss: 0.3006 - acc: 0.8772\n",
      "Epoch 292/300\n",
      "8000/8000 [==============================] - 0s 20us/step - loss: 0.2984 - acc: 0.8752\n",
      "Epoch 293/300\n",
      "8000/8000 [==============================] - 0s 20us/step - loss: 0.3007 - acc: 0.8744\n",
      "Epoch 294/300\n",
      "8000/8000 [==============================] - 0s 21us/step - loss: 0.2992 - acc: 0.8740\n",
      "Epoch 295/300\n",
      "8000/8000 [==============================] - 0s 19us/step - loss: 0.2989 - acc: 0.8777\n",
      "Epoch 296/300\n",
      "8000/8000 [==============================] - 0s 20us/step - loss: 0.2991 - acc: 0.8765\n",
      "Epoch 297/300\n",
      "8000/8000 [==============================] - 0s 19us/step - loss: 0.3001 - acc: 0.8741\n",
      "Epoch 298/300\n",
      "8000/8000 [==============================] - 0s 20us/step - loss: 0.3000 - acc: 0.8751\n",
      "Epoch 299/300\n",
      "8000/8000 [==============================] - 0s 19us/step - loss: 0.3002 - acc: 0.8711\n",
      "Epoch 300/300\n",
      "8000/8000 [==============================] - 0s 20us/step - loss: 0.3006 - acc: 0.8754\n"
     ]
    },
    {
     "data": {
      "text/plain": [
       "<keras.callbacks.History at 0xf6ceba8>"
      ]
     },
     "execution_count": 33,
     "metadata": {},
     "output_type": "execute_result"
    }
   ],
   "source": [
    "model.fit(x_train,y_train,batch_size=32,epochs=300)\n",
    "\n",
    "## As we are using Mini_batch Gradient Descnet batch_size = 32 (optimal)\n",
    "## Epochs = 50 is given (Can be varied)"
   ]
  },
  {
   "cell_type": "markdown",
   "metadata": {},
   "source": [
    "## ***Step - 8 - Test the Model***"
   ]
  },
  {
   "cell_type": "code",
   "execution_count": 34,
   "metadata": {},
   "outputs": [],
   "source": [
    "y_pred=model.predict(x_test)"
   ]
  },
  {
   "cell_type": "code",
   "execution_count": 35,
   "metadata": {},
   "outputs": [
    {
     "data": {
      "text/plain": [
       "array([[0.02793381],\n",
       "       [0.00860631],\n",
       "       [0.11598176],\n",
       "       ...,\n",
       "       [0.16999474],\n",
       "       [0.08036268],\n",
       "       [0.00990209]], dtype=float32)"
      ]
     },
     "execution_count": 35,
     "metadata": {},
     "output_type": "execute_result"
    }
   ],
   "source": [
    "y_pred"
   ]
  },
  {
   "cell_type": "code",
   "execution_count": 36,
   "metadata": {},
   "outputs": [],
   "source": [
    "y_pred=y_pred>0.5   ## Applying Threshold value - 0.5 --> Boolean value is returned"
   ]
  },
  {
   "cell_type": "code",
   "execution_count": 37,
   "metadata": {},
   "outputs": [
    {
     "data": {
      "text/plain": [
       "array([[False],\n",
       "       [False],\n",
       "       [False],\n",
       "       ...,\n",
       "       [False],\n",
       "       [False],\n",
       "       [False]])"
      ]
     },
     "execution_count": 37,
     "metadata": {},
     "output_type": "execute_result"
    }
   ],
   "source": [
    "y_pred  "
   ]
  },
  {
   "cell_type": "code",
   "execution_count": 38,
   "metadata": {},
   "outputs": [],
   "source": [
    "from sklearn.metrics import accuracy_score"
   ]
  },
  {
   "cell_type": "code",
   "execution_count": 39,
   "metadata": {},
   "outputs": [
    {
     "name": "stdout",
     "output_type": "stream",
     "text": [
      "Accuracy Score :  85.35000000000001 %\n"
     ]
    }
   ],
   "source": [
    "print(\"Accuracy Score : \",accuracy_score(y_test,y_pred)*100,\"%\")  ## To improve the accuracy add hidden layers."
   ]
  },
  {
   "cell_type": "code",
   "execution_count": null,
   "metadata": {},
   "outputs": [],
   "source": []
  }
 ],
 "metadata": {
  "kernelspec": {
   "display_name": "Python 3",
   "language": "python",
   "name": "python3"
  },
  "language_info": {
   "codemirror_mode": {
    "name": "ipython",
    "version": 3
   },
   "file_extension": ".py",
   "mimetype": "text/x-python",
   "name": "python",
   "nbconvert_exporter": "python",
   "pygments_lexer": "ipython3",
   "version": "3.6.5"
  }
 },
 "nbformat": 4,
 "nbformat_minor": 2
}
