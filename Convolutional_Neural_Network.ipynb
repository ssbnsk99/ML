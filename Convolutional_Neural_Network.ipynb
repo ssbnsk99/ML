{
 "cells": [
  {
   "cell_type": "markdown",
   "metadata": {},
   "source": [
    "## ***Steps to build CNN***"
   ]
  },
  {
   "cell_type": "markdown",
   "metadata": {},
   "source": [
    "## ***Step-1 Import Required Libraries***"
   ]
  },
  {
   "cell_type": "code",
   "execution_count": 3,
   "metadata": {},
   "outputs": [],
   "source": [
    "from keras.models import Sequential\n",
    "from keras.layers import Dense,Conv2D,MaxPooling2D,Flatten\n",
    "\n",
    "## Dense,Convolution layer,Pooling,Flatten layer is also present in keras.layers package."
   ]
  },
  {
   "cell_type": "markdown",
   "metadata": {},
   "source": [
    "## ***Step - 2 Initialize the Model***"
   ]
  },
  {
   "cell_type": "code",
   "execution_count": 4,
   "metadata": {},
   "outputs": [],
   "source": [
    "cnn_model=Sequential()"
   ]
  },
  {
   "cell_type": "markdown",
   "metadata": {},
   "source": [
    "## ***Step - 3 Add Convolution layer***"
   ]
  },
  {
   "cell_type": "code",
   "execution_count": 6,
   "metadata": {},
   "outputs": [
    {
     "name": "stdout",
     "output_type": "stream",
     "text": [
      "WARNING:tensorflow:From C:\\ProgramData\\Anaconda3\\lib\\site-packages\\tensorflow\\python\\framework\\op_def_library.py:263: colocate_with (from tensorflow.python.framework.ops) is deprecated and will be removed in a future version.\n",
      "Instructions for updating:\n",
      "Colocations handled automatically by placer.\n"
     ]
    },
    {
     "name": "stderr",
     "output_type": "stream",
     "text": [
      "C:\\ProgramData\\Anaconda3\\lib\\site-packages\\ipykernel_launcher.py:1: UserWarning: Update your `Conv2D` call to the Keras 2 API: `Conv2D(32, (3, 3), input_shape=(64, 64, 3..., activation=\"relu\")`\n",
      "  \"\"\"Entry point for launching an IPython kernel.\n"
     ]
    }
   ],
   "source": [
    "cnn_model.add(Conv2D(32,3,3,input_shape=(64,64,3),activation='relu'))  \n",
    "\n",
    "##Conv2D is a class to add convolutional layer to add a convolutional layer to the model.\n",
    "# 1st parameter --> No. of feature detectors to be applied to the input image.\n",
    "# 2nd & 3rd parameter --> 3X3 represents the dimension of the feature detector to be applied.\n",
    "# 4th parameter --> # input_shape defines the size of the image. 64x64 is ideal. It can be varied based on the GPU performance.\n",
    "                    # 3--> No. of Channels (i.e) RGB. In case of gray scale images the No. of Channels --> 1.\n",
    "# 5th parameter --> Activation function. 'relu' activation function is added to remove negative pixels. Helps to avoid non linearity in the image.\n"
   ]
  },
  {
   "cell_type": "markdown",
   "metadata": {},
   "source": [
    "## ***Step - 4 Add Pooling Layer***"
   ]
  },
  {
   "cell_type": "code",
   "execution_count": 7,
   "metadata": {},
   "outputs": [],
   "source": [
    "cnn_model.add(MaxPooling2D(pool_size=(2,2))) # pool_size is the size of the pooling matrix.--> Specified by the developer."
   ]
  },
  {
   "cell_type": "markdown",
   "metadata": {},
   "source": [
    "## ***Step - 5 Add Flattening Layer***"
   ]
  },
  {
   "cell_type": "code",
   "execution_count": 8,
   "metadata": {},
   "outputs": [],
   "source": [
    "cnn_model.add(Flatten()) ## No parameter is required as it is just a conversion from multi dimension to single dimension."
   ]
  },
  {
   "cell_type": "code",
   "execution_count": 9,
   "metadata": {},
   "outputs": [],
   "source": [
    "# Next is to employ ANN. \n",
    "# Since the flatten layer serves as the input to ANN, input layer is not necessary for ANN.\n",
    "# Hence add Hidden layers."
   ]
  },
  {
   "cell_type": "markdown",
   "metadata": {},
   "source": [
    "## ***Step - 6 Add Hidden Layer to ANN***"
   ]
  },
  {
   "cell_type": "code",
   "execution_count": 11,
   "metadata": {},
   "outputs": [
    {
     "name": "stderr",
     "output_type": "stream",
     "text": [
      "C:\\ProgramData\\Anaconda3\\lib\\site-packages\\ipykernel_launcher.py:1: UserWarning: Update your `Dense` call to the Keras 2 API: `Dense(activation=\"relu\", units=120, kernel_initializer=\"random_uniform\")`\n",
      "  \"\"\"Entry point for launching an IPython kernel.\n"
     ]
    }
   ],
   "source": [
    "cnn_model.add(Dense(init=\"random_uniform\",activation='relu',output_dim=120))"
   ]
  },
  {
   "cell_type": "markdown",
   "metadata": {},
   "source": [
    "## ***Step - 7 Add Output Layer***"
   ]
  },
  {
   "cell_type": "code",
   "execution_count": 12,
   "metadata": {},
   "outputs": [
    {
     "name": "stderr",
     "output_type": "stream",
     "text": [
      "C:\\ProgramData\\Anaconda3\\lib\\site-packages\\ipykernel_launcher.py:1: UserWarning: Update your `Dense` call to the Keras 2 API: `Dense(activation=\"sigmoid\", units=1, kernel_initializer=\"random_uniform\")`\n",
      "  \"\"\"Entry point for launching an IPython kernel.\n"
     ]
    }
   ],
   "source": [
    "cnn_model.add(Dense(init=\"random_uniform\",activation='sigmoid',output_dim=1))"
   ]
  },
  {
   "cell_type": "markdown",
   "metadata": {},
   "source": [
    "## ***Step - 8 Compile the Model***"
   ]
  },
  {
   "cell_type": "code",
   "execution_count": 13,
   "metadata": {},
   "outputs": [],
   "source": [
    "cnn_model.compile(optimizer='adam',loss='binary_crossentropy',metrics=[\"accuracy\"])"
   ]
  },
  {
   "cell_type": "markdown",
   "metadata": {},
   "source": [
    "## ***Step - 9 Pre-Processing the Image***"
   ]
  },
  {
   "cell_type": "code",
   "execution_count": 15,
   "metadata": {},
   "outputs": [],
   "source": [
    "from keras.preprocessing.image import ImageDataGenerator \n",
    "\n",
    "## ImageDataGenerator is a class in keras.preprocessing.image package to apply some preprocessing in the image."
   ]
  },
  {
   "cell_type": "code",
   "execution_count": 16,
   "metadata": {},
   "outputs": [],
   "source": [
    "train_datagen = ImageDataGenerator(\n",
    "        rescale=1./255,       ## rescale parameter applies feature scaling to all the pixels values of the image.  \n",
    "        shear_range=0.2,      ## shear_range parameter applies some flips (i.e)Tilts the actual image into many different angles.\n",
    "        zoom_range=0.2,       ## zoom_range parameter applies zoom to a particular scale to the image.\n",
    "        horizontal_flip=True) ## horizontal_flip parameter flips the images into horizontal shape.\n",
    "\n",
    "## Image Data Generator is used to apply some transformations to the image to avoid over-fitting.\n",
    "## It is applied for training data inorder to have more training data as well as to avoid over-fitting."
   ]
  },
  {
   "cell_type": "code",
   "execution_count": 19,
   "metadata": {},
   "outputs": [],
   "source": [
    "test_datagen = ImageDataGenerator(rescale=1./255) ## Test data "
   ]
  },
  {
   "cell_type": "code",
   "execution_count": 22,
   "metadata": {},
   "outputs": [
    {
     "name": "stdout",
     "output_type": "stream",
     "text": [
      "Found 8010 images belonging to 2 classes.\n"
     ]
    }
   ],
   "source": [
    "# ImageDataGenerator has a function flow_from_directory used to import the image data and simultaneously apply the transformations.\n",
    "x_train = train_datagen.flow_from_directory(\n",
    "        r'C:\\Users\\admin\\Desktop\\ai\\dataset\\training_set',\n",
    "        target_size=(64, 64),     ## target_size=64x64 as we have given it earlier.\n",
    "        batch_size=32,            ## No.Of Rows taken.\n",
    "        class_mode='binary')      ## class_mode defines the no. of classes. For 2 o/p --> binary. More than 2 --> categorical."
   ]
  },
  {
   "cell_type": "code",
   "execution_count": 23,
   "metadata": {},
   "outputs": [
    {
     "name": "stdout",
     "output_type": "stream",
     "text": [
      "Found 2002 images belonging to 2 classes.\n"
     ]
    }
   ],
   "source": [
    "x_test = test_datagen.flow_from_directory(\n",
    "        r'C:\\Users\\admin\\Desktop\\ai\\dataset\\test_set',\n",
    "        target_size=(64, 64),\n",
    "        batch_size=32,\n",
    "        class_mode='binary')"
   ]
  },
  {
   "cell_type": "code",
   "execution_count": 25,
   "metadata": {},
   "outputs": [
    {
     "data": {
      "text/plain": [
       "{'cats': 0, 'dogs': 1}"
      ]
     },
     "execution_count": 25,
     "metadata": {},
     "output_type": "execute_result"
    }
   ],
   "source": [
    "x_train.class_indices"
   ]
  },
  {
   "cell_type": "code",
   "execution_count": 26,
   "metadata": {},
   "outputs": [
    {
     "name": "stdout",
     "output_type": "stream",
     "text": [
      "WARNING:tensorflow:From C:\\ProgramData\\Anaconda3\\lib\\site-packages\\tensorflow\\python\\ops\\math_ops.py:3066: to_int32 (from tensorflow.python.ops.math_ops) is deprecated and will be removed in a future version.\n",
      "Instructions for updating:\n",
      "Use tf.cast instead.\n",
      "Epoch 1/10\n",
      "250/250 [==============================] - 43s 172ms/step - loss: 0.6675 - acc: 0.5765 - val_loss: 0.6195 - val_acc: 0.6820\n",
      "Epoch 2/10\n",
      "250/250 [==============================] - 42s 169ms/step - loss: 0.6083 - acc: 0.6740 - val_loss: 0.6078 - val_acc: 0.6741\n",
      "Epoch 3/10\n",
      "250/250 [==============================] - 42s 168ms/step - loss: 0.5746 - acc: 0.7003 - val_loss: 0.5850 - val_acc: 0.6914\n",
      "Epoch 4/10\n",
      "250/250 [==============================] - 42s 169ms/step - loss: 0.5510 - acc: 0.7150 - val_loss: 0.5470 - val_acc: 0.7335\n",
      "Epoch 5/10\n",
      "250/250 [==============================] - 42s 169ms/step - loss: 0.5341 - acc: 0.7261 - val_loss: 0.5528 - val_acc: 0.7132\n",
      "Epoch 6/10\n",
      "250/250 [==============================] - 42s 169ms/step - loss: 0.5163 - acc: 0.7431 - val_loss: 0.5333 - val_acc: 0.7188\n",
      "Epoch 7/10\n",
      "250/250 [==============================] - 42s 169ms/step - loss: 0.5087 - acc: 0.7487 - val_loss: 0.5196 - val_acc: 0.7487\n",
      "Epoch 8/10\n",
      "250/250 [==============================] - 42s 169ms/step - loss: 0.4963 - acc: 0.7590 - val_loss: 0.4979 - val_acc: 0.7675\n",
      "Epoch 9/10\n",
      "250/250 [==============================] - 42s 168ms/step - loss: 0.4858 - acc: 0.7614 - val_loss: 0.5066 - val_acc: 0.7675\n",
      "Epoch 10/10\n",
      "250/250 [==============================] - 42s 167ms/step - loss: 0.4719 - acc: 0.7678 - val_loss: 0.5341 - val_acc: 0.7487\n"
     ]
    },
    {
     "data": {
      "text/plain": [
       "<keras.callbacks.History at 0xe37d438>"
      ]
     },
     "execution_count": 26,
     "metadata": {},
     "output_type": "execute_result"
    }
   ],
   "source": [
    "# By using fit_generator method we are simultaneously training and testing the algorithm & gives the accuracy score.\n",
    "# Here we get two accuracy scores for each epoch. 1. Training Accuracy & 2. Validation (Testing) Accuracy\n",
    "# Hence in fit_generator we have to provide both training data as well as test data.\n",
    "\n",
    "cnn_model.fit_generator(\n",
    "        x_train,\n",
    "        steps_per_epoch=250,       ## steps_per_epoch = ( No.of training images / Batch Size ) <-- As per keras documentation.\n",
    "        epochs=10,                 ## epochs can be varied based on the hardware performance. \n",
    "        validation_data=x_test,\n",
    "        validation_steps=62)       ## validation_steps = ( No.of testing images / Batch Size ) <-- As per keras documentation."
   ]
  },
  {
   "cell_type": "code",
   "execution_count": 27,
   "metadata": {},
   "outputs": [],
   "source": [
    "# save method is used to save the model.\n",
    "cnn_model.save(\"mymodel.h5\")  # Extension for saving the keras model is .h5"
   ]
  },
  {
   "cell_type": "code",
   "execution_count": null,
   "metadata": {},
   "outputs": [],
   "source": []
  }
 ],
 "metadata": {
  "kernelspec": {
   "display_name": "Python 3",
   "language": "python",
   "name": "python3"
  },
  "language_info": {
   "codemirror_mode": {
    "name": "ipython",
    "version": 3
   },
   "file_extension": ".py",
   "mimetype": "text/x-python",
   "name": "python",
   "nbconvert_exporter": "python",
   "pygments_lexer": "ipython3",
   "version": "3.6.5"
  }
 },
 "nbformat": 4,
 "nbformat_minor": 2
}
