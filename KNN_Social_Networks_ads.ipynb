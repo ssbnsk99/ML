{
 "cells": [
  {
   "cell_type": "code",
   "execution_count": 1,
   "metadata": {},
   "outputs": [],
   "source": [
    "import pandas as pd\n",
    "import numpy as np\n",
    "import matplotlib.pyplot as plt\n",
    "import seaborn as sns"
   ]
  },
  {
   "cell_type": "code",
   "execution_count": 2,
   "metadata": {},
   "outputs": [],
   "source": [
    "df=pd.read_csv(\"Social_Network_Ads.csv\")"
   ]
  },
  {
   "cell_type": "code",
   "execution_count": 3,
   "metadata": {},
   "outputs": [
    {
     "data": {
      "text/html": [
       "<div>\n",
       "<style scoped>\n",
       "    .dataframe tbody tr th:only-of-type {\n",
       "        vertical-align: middle;\n",
       "    }\n",
       "\n",
       "    .dataframe tbody tr th {\n",
       "        vertical-align: top;\n",
       "    }\n",
       "\n",
       "    .dataframe thead th {\n",
       "        text-align: right;\n",
       "    }\n",
       "</style>\n",
       "<table border=\"1\" class=\"dataframe\">\n",
       "  <thead>\n",
       "    <tr style=\"text-align: right;\">\n",
       "      <th></th>\n",
       "      <th>User ID</th>\n",
       "      <th>Gender</th>\n",
       "      <th>Age</th>\n",
       "      <th>EstimatedSalary</th>\n",
       "      <th>Purchased</th>\n",
       "    </tr>\n",
       "  </thead>\n",
       "  <tbody>\n",
       "    <tr>\n",
       "      <th>0</th>\n",
       "      <td>15624510</td>\n",
       "      <td>Male</td>\n",
       "      <td>19</td>\n",
       "      <td>19000</td>\n",
       "      <td>0</td>\n",
       "    </tr>\n",
       "    <tr>\n",
       "      <th>1</th>\n",
       "      <td>15810944</td>\n",
       "      <td>Male</td>\n",
       "      <td>35</td>\n",
       "      <td>20000</td>\n",
       "      <td>0</td>\n",
       "    </tr>\n",
       "    <tr>\n",
       "      <th>2</th>\n",
       "      <td>15668575</td>\n",
       "      <td>Female</td>\n",
       "      <td>26</td>\n",
       "      <td>43000</td>\n",
       "      <td>0</td>\n",
       "    </tr>\n",
       "    <tr>\n",
       "      <th>3</th>\n",
       "      <td>15603246</td>\n",
       "      <td>Female</td>\n",
       "      <td>27</td>\n",
       "      <td>57000</td>\n",
       "      <td>0</td>\n",
       "    </tr>\n",
       "    <tr>\n",
       "      <th>4</th>\n",
       "      <td>15804002</td>\n",
       "      <td>Male</td>\n",
       "      <td>19</td>\n",
       "      <td>76000</td>\n",
       "      <td>0</td>\n",
       "    </tr>\n",
       "  </tbody>\n",
       "</table>\n",
       "</div>"
      ],
      "text/plain": [
       "    User ID  Gender  Age  EstimatedSalary  Purchased\n",
       "0  15624510    Male   19            19000          0\n",
       "1  15810944    Male   35            20000          0\n",
       "2  15668575  Female   26            43000          0\n",
       "3  15603246  Female   27            57000          0\n",
       "4  15804002    Male   19            76000          0"
      ]
     },
     "execution_count": 3,
     "metadata": {},
     "output_type": "execute_result"
    }
   ],
   "source": [
    "df.head()"
   ]
  },
  {
   "cell_type": "code",
   "execution_count": 4,
   "metadata": {},
   "outputs": [
    {
     "data": {
      "text/plain": [
       "User ID            False\n",
       "Gender             False\n",
       "Age                False\n",
       "EstimatedSalary    False\n",
       "Purchased          False\n",
       "dtype: bool"
      ]
     },
     "execution_count": 4,
     "metadata": {},
     "output_type": "execute_result"
    }
   ],
   "source": [
    "df.isnull().any()"
   ]
  },
  {
   "cell_type": "code",
   "execution_count": 5,
   "metadata": {},
   "outputs": [],
   "source": [
    "x=df.iloc[:,1:4].values\n",
    "y=df.iloc[:,4].values"
   ]
  },
  {
   "cell_type": "code",
   "execution_count": 6,
   "metadata": {},
   "outputs": [],
   "source": [
    "from sklearn.preprocessing import LabelEncoder"
   ]
  },
  {
   "cell_type": "code",
   "execution_count": 7,
   "metadata": {},
   "outputs": [],
   "source": [
    "lb=LabelEncoder()"
   ]
  },
  {
   "cell_type": "code",
   "execution_count": 8,
   "metadata": {},
   "outputs": [],
   "source": [
    "x[:,0]=lb.fit_transform(x[:,0])"
   ]
  },
  {
   "cell_type": "code",
   "execution_count": 9,
   "metadata": {},
   "outputs": [
    {
     "data": {
      "text/plain": [
       "array([[1, 19, 19000],\n",
       "       [1, 35, 20000],\n",
       "       [0, 26, 43000],\n",
       "       ...,\n",
       "       [0, 50, 20000],\n",
       "       [1, 36, 33000],\n",
       "       [0, 49, 36000]], dtype=object)"
      ]
     },
     "execution_count": 9,
     "metadata": {},
     "output_type": "execute_result"
    }
   ],
   "source": [
    "x"
   ]
  },
  {
   "cell_type": "code",
   "execution_count": 10,
   "metadata": {
    "scrolled": true
   },
   "outputs": [
    {
     "data": {
      "text/plain": [
       "array([0, 0, 0, 0, 0, 0, 0, 1, 0, 0, 0, 0, 0, 0, 0, 0, 1, 1, 1, 1, 1, 1,\n",
       "       1, 1, 1, 1, 1, 1, 0, 0, 0, 1, 0, 0, 0, 0, 0, 0, 0, 0, 0, 0, 0, 0,\n",
       "       0, 0, 0, 0, 1, 0, 0, 0, 0, 0, 0, 0, 0, 0, 0, 0, 0, 0, 0, 1, 0, 0,\n",
       "       0, 0, 0, 0, 0, 0, 0, 0, 0, 1, 0, 0, 0, 0, 0, 0, 0, 0, 0, 1, 0, 0,\n",
       "       0, 0, 0, 0, 0, 0, 0, 0, 0, 1, 0, 0, 0, 0, 0, 1, 0, 0, 0, 0, 0, 0,\n",
       "       0, 0, 0, 0, 0, 0, 0, 0, 0, 0, 0, 0, 0, 0, 0, 0, 0, 0, 0, 0, 0, 0,\n",
       "       0, 0, 0, 0, 0, 1, 0, 0, 0, 0, 0, 0, 0, 0, 1, 0, 0, 0, 0, 0, 0, 0,\n",
       "       0, 0, 0, 0, 0, 1, 1, 0, 0, 0, 0, 0, 0, 0, 1, 0, 0, 0, 0, 0, 0, 0,\n",
       "       0, 0, 0, 0, 0, 0, 1, 0, 0, 0, 0, 0, 0, 0, 0, 0, 0, 0, 0, 0, 0, 0,\n",
       "       0, 0, 0, 0, 1, 0, 1, 0, 1, 0, 1, 0, 1, 1, 0, 0, 0, 1, 0, 0, 0, 1,\n",
       "       0, 1, 1, 1, 0, 0, 1, 1, 0, 1, 1, 0, 1, 1, 0, 1, 0, 0, 0, 1, 1, 0,\n",
       "       1, 1, 0, 1, 0, 1, 0, 1, 0, 0, 1, 1, 0, 1, 0, 0, 1, 1, 0, 1, 1, 0,\n",
       "       1, 1, 0, 0, 1, 0, 0, 1, 1, 1, 1, 1, 0, 1, 1, 1, 1, 0, 1, 1, 0, 1,\n",
       "       0, 1, 0, 1, 1, 1, 1, 0, 0, 0, 1, 1, 0, 1, 1, 1, 1, 1, 0, 0, 0, 1,\n",
       "       1, 0, 0, 1, 0, 1, 0, 1, 1, 0, 1, 0, 1, 1, 0, 1, 1, 0, 0, 0, 1, 1,\n",
       "       0, 1, 0, 0, 1, 0, 1, 0, 0, 1, 1, 0, 0, 1, 1, 0, 1, 1, 0, 0, 1, 0,\n",
       "       1, 0, 1, 1, 1, 0, 1, 0, 1, 1, 1, 0, 1, 1, 1, 1, 0, 1, 1, 1, 0, 1,\n",
       "       0, 1, 0, 0, 1, 1, 0, 1, 1, 1, 1, 1, 1, 0, 1, 1, 1, 1, 1, 1, 0, 1,\n",
       "       1, 1, 0, 1], dtype=int64)"
      ]
     },
     "execution_count": 10,
     "metadata": {},
     "output_type": "execute_result"
    }
   ],
   "source": [
    "y"
   ]
  },
  {
   "cell_type": "code",
   "execution_count": 11,
   "metadata": {},
   "outputs": [],
   "source": [
    "from sklearn.model_selection import train_test_split"
   ]
  },
  {
   "cell_type": "code",
   "execution_count": 12,
   "metadata": {},
   "outputs": [],
   "source": [
    "x_train,x_test,y_train,y_test=train_test_split(x,y,test_size=0.2)"
   ]
  },
  {
   "cell_type": "code",
   "execution_count": 13,
   "metadata": {},
   "outputs": [],
   "source": [
    "from sklearn.preprocessing import MinMaxScaler"
   ]
  },
  {
   "cell_type": "code",
   "execution_count": 14,
   "metadata": {},
   "outputs": [],
   "source": [
    "mnmx=MinMaxScaler()"
   ]
  },
  {
   "cell_type": "code",
   "execution_count": 15,
   "metadata": {},
   "outputs": [
    {
     "name": "stderr",
     "output_type": "stream",
     "text": [
      "C:\\ProgramData\\Anaconda3\\lib\\site-packages\\sklearn\\utils\\validation.py:475: DataConversionWarning: Data with input dtype object was converted to float64 by MinMaxScaler.\n",
      "  warnings.warn(msg, DataConversionWarning)\n"
     ]
    }
   ],
   "source": [
    "x_train=mnmx.fit_transform(x_train)\n",
    "x_test=mnmx.transform(x_test)"
   ]
  },
  {
   "cell_type": "code",
   "execution_count": 16,
   "metadata": {},
   "outputs": [
    {
     "data": {
      "text/plain": [
       "array([[1.        , 0.5       , 0.6       ],\n",
       "       [1.        , 0.66666667, 0.54074074],\n",
       "       [0.        , 0.11904762, 0.0962963 ],\n",
       "       [0.        , 0.42857143, 0.25925926],\n",
       "       [1.        , 0.64285714, 0.47407407],\n",
       "       [1.        , 0.54761905, 0.47407407],\n",
       "       [1.        , 0.42857143, 0.13333333],\n",
       "       [1.        , 0.14285714, 0.05925926],\n",
       "       [1.        , 0.28571429, 0.88888889],\n",
       "       [1.        , 0.45238095, 0.45925926],\n",
       "       [1.        , 0.42857143, 0.95555556],\n",
       "       [1.        , 0.14285714, 0.51111111],\n",
       "       [1.        , 0.47619048, 0.41481481],\n",
       "       [1.        , 0.52380952, 0.31111111],\n",
       "       [1.        , 0.73809524, 0.37037037],\n",
       "       [1.        , 0.28571429, 0.53333333],\n",
       "       [0.        , 0.        , 0.21481481],\n",
       "       [1.        , 0.04761905, 0.52592593],\n",
       "       [1.        , 0.4047619 , 0.42222222],\n",
       "       [0.        , 0.21428571, 0.28888889],\n",
       "       [1.        , 0.64285714, 0.12592593],\n",
       "       [1.        , 0.02380952, 0.45185185],\n",
       "       [1.        , 0.54761905, 0.32592593],\n",
       "       [1.        , 0.26190476, 0.44444444],\n",
       "       [1.        , 0.57142857, 0.28888889],\n",
       "       [1.        , 0.19047619, 0.11111111],\n",
       "       [0.        , 0.28571429, 0.74814815],\n",
       "       [0.        , 0.26190476, 0.5037037 ],\n",
       "       [1.        , 0.52380952, 0.31111111],\n",
       "       [0.        , 0.57142857, 0.44444444],\n",
       "       [0.        , 0.4047619 , 0.23703704],\n",
       "       [0.        , 0.        , 0.52592593],\n",
       "       [0.        , 0.14285714, 0.2962963 ],\n",
       "       [1.        , 0.4047619 , 0.56296296],\n",
       "       [0.        , 0.54761905, 0.33333333],\n",
       "       [0.        , 0.23809524, 0.2962963 ],\n",
       "       [1.        , 0.45238095, 0.40740741],\n",
       "       [1.        , 0.30952381, 0.43703704],\n",
       "       [0.        , 0.5952381 , 0.87407407],\n",
       "       [0.        , 0.73809524, 0.15555556],\n",
       "       [0.        , 0.71428571, 0.1037037 ],\n",
       "       [1.        , 0.45238095, 0.44444444],\n",
       "       [0.        , 0.23809524, 0.16296296],\n",
       "       [0.        , 0.83333333, 0.4962963 ],\n",
       "       [0.        , 0.0952381 , 0.08888889],\n",
       "       [1.        , 0.92857143, 0.43703704],\n",
       "       [1.        , 0.4047619 , 0.05185185],\n",
       "       [1.        , 0.21428571, 0.55555556],\n",
       "       [0.        , 0.04761905, 0.4962963 ],\n",
       "       [0.        , 0.47619048, 0.25925926],\n",
       "       [1.        , 0.33333333, 0.62962963],\n",
       "       [1.        , 0.42857143, 0.62222222],\n",
       "       [1.        , 0.73809524, 0.0962963 ],\n",
       "       [0.        , 0.76190476, 0.15555556],\n",
       "       [1.        , 0.64285714, 0.05185185],\n",
       "       [1.        , 0.52380952, 0.23703704],\n",
       "       [1.        , 0.02380952, 0.02962963],\n",
       "       [0.        , 0.19047619, 0.27407407],\n",
       "       [1.        , 0.28571429, 0.        ],\n",
       "       [1.        , 0.07142857, 0.54074074],\n",
       "       [1.        , 0.57142857, 0.42962963],\n",
       "       [0.        , 0.35714286, 0.26666667],\n",
       "       [1.        , 0.4047619 , 0.42962963],\n",
       "       [1.        , 0.14285714, 0.31851852],\n",
       "       [1.        , 0.66666667, 0.05925926],\n",
       "       [0.        , 0.28571429, 0.47407407],\n",
       "       [0.        , 0.78571429, 0.97037037],\n",
       "       [1.        , 0.45238095, 0.42222222],\n",
       "       [0.        , 0.04761905, 0.4962963 ],\n",
       "       [1.        , 0.5       , 0.2       ],\n",
       "       [0.        , 0.23809524, 0.32592593],\n",
       "       [1.        , 0.66666667, 0.32592593],\n",
       "       [0.        , 0.57142857, 0.68888889],\n",
       "       [0.        , 0.19047619, 0.76296296],\n",
       "       [1.        , 0.47619048, 0.34074074],\n",
       "       [1.        , 0.4047619 , 0.44444444],\n",
       "       [0.        , 0.4047619 , 0.33333333],\n",
       "       [0.        , 0.45238095, 0.41481481],\n",
       "       [1.        , 0.52380952, 0.37037037],\n",
       "       [1.        , 0.11904762, 0.03703704],\n",
       "       [0.        , 0.85714286, 0.08148148],\n",
       "       [0.        , 0.4047619 , 0.97777778],\n",
       "       [0.        , 0.4047619 , 0.60740741],\n",
       "       [1.        , 0.0952381 , 0.02222222],\n",
       "       [0.        , 0.83333333, 0.65925926],\n",
       "       [1.        , 0.71428571, 0.93333333],\n",
       "       [0.        , 0.02380952, 0.04444444],\n",
       "       [0.        , 0.33333333, 1.        ],\n",
       "       [1.        , 0.9047619 , 0.33333333],\n",
       "       [1.        , 0.4047619 , 0.17037037],\n",
       "       [1.        , 0.57142857, 0.36296296],\n",
       "       [0.        , 0.54761905, 0.42222222],\n",
       "       [0.        , 0.61904762, 0.91851852],\n",
       "       [1.        , 0.5952381 , 0.84444444],\n",
       "       [0.        , 0.69047619, 0.26666667],\n",
       "       [1.        , 0.97619048, 0.94814815],\n",
       "       [1.        , 0.4047619 , 0.03703704],\n",
       "       [1.        , 0.92857143, 0.33333333],\n",
       "       [1.        , 0.52380952, 0.44444444],\n",
       "       [1.        , 0.73809524, 0.0962963 ],\n",
       "       [0.        , 0.42857143, 0.82222222],\n",
       "       [1.        , 0.52380952, 0.46666667],\n",
       "       [0.        , 0.71428571, 0.14814815],\n",
       "       [1.        , 0.57142857, 0.37037037],\n",
       "       [0.        , 0.33333333, 0.75555556],\n",
       "       [0.        , 0.57142857, 0.48148148],\n",
       "       [1.        , 0.04761905, 0.43703704],\n",
       "       [0.        , 0.66666667, 0.6       ],\n",
       "       [1.        , 0.71428571, 0.13333333],\n",
       "       [0.        , 0.14285714, 0.12592593],\n",
       "       [1.        , 0.4047619 , 0.31851852],\n",
       "       [1.        , 0.07142857, 0.42222222],\n",
       "       [1.        , 0.42857143, 0.76296296],\n",
       "       [0.        , 0.19047619, 0.20740741],\n",
       "       [1.        , 0.57142857, 0.28888889],\n",
       "       [0.        , 0.69047619, 0.25185185],\n",
       "       [1.        , 0.28571429, 0.48148148],\n",
       "       [0.        , 0.4047619 , 0.05925926],\n",
       "       [1.        , 0.30952381, 0.45185185],\n",
       "       [0.        , 0.28571429, 0.34814815],\n",
       "       [1.        , 0.5       , 0.2       ],\n",
       "       [1.        , 0.52380952, 0.31111111],\n",
       "       [1.        , 0.21428571, 0.03703704],\n",
       "       [0.        , 0.80952381, 0.91111111],\n",
       "       [0.        , 0.21428571, 0.31111111],\n",
       "       [0.        , 0.30952381, 0.39259259],\n",
       "       [1.        , 0.42857143, 0.81481481],\n",
       "       [1.        , 0.42857143, 0.27407407],\n",
       "       [0.        , 0.47619048, 0.48148148],\n",
       "       [0.        , 0.88095238, 0.85185185],\n",
       "       [0.        , 0.26190476, 0.5037037 ],\n",
       "       [1.        , 0.35714286, 0.20740741],\n",
       "       [1.        , 0.45238095, 0.27407407],\n",
       "       [1.        , 1.        , 0.2       ],\n",
       "       [1.        , 0.26190476, 0.48148148],\n",
       "       [1.        , 0.66666667, 0.47407407],\n",
       "       [1.        , 0.52380952, 0.32592593],\n",
       "       [0.        , 0.11904762, 0.24444444],\n",
       "       [1.        , 0.26190476, 0.20740741],\n",
       "       [1.        , 0.38095238, 0.74074074],\n",
       "       [0.        , 0.73809524, 0.93333333],\n",
       "       [0.        , 0.19047619, 0.48148148],\n",
       "       [1.        , 0.02380952, 0.07407407],\n",
       "       [0.        , 0.85714286, 0.65925926],\n",
       "       [1.        , 0.71428571, 0.43703704],\n",
       "       [1.        , 0.45238095, 0.28148148],\n",
       "       [0.        , 0.57142857, 0.47407407],\n",
       "       [1.        , 0.33333333, 0.77777778],\n",
       "       [0.        , 0.42857143, 0.28888889],\n",
       "       [0.        , 0.52380952, 0.42222222],\n",
       "       [0.        , 0.02380952, 0.08148148],\n",
       "       [0.        , 0.80952381, 0.55555556],\n",
       "       [1.        , 0.16666667, 0.13333333],\n",
       "       [1.        , 0.64285714, 0.08148148],\n",
       "       [0.        , 0.52380952, 0.94074074],\n",
       "       [1.        , 0.16666667, 0.55555556],\n",
       "       [0.        , 0.73809524, 0.17777778],\n",
       "       [0.        , 0.21428571, 0.01481481],\n",
       "       [1.        , 0.02380952, 0.40740741],\n",
       "       [0.        , 0.52380952, 0.44444444],\n",
       "       [1.        , 0.23809524, 0.54814815],\n",
       "       [1.        , 0.4047619 , 0.54074074],\n",
       "       [1.        , 0.73809524, 0.52592593],\n",
       "       [1.        , 0.52380952, 0.41481481],\n",
       "       [0.        , 0.5       , 0.88148148],\n",
       "       [0.        , 0.30952381, 0.76296296],\n",
       "       [0.        , 0.45238095, 0.97037037],\n",
       "       [1.        , 0.14285714, 0.02962963],\n",
       "       [1.        , 0.5       , 0.67407407],\n",
       "       [0.        , 0.95238095, 0.23703704],\n",
       "       [0.        , 0.97619048, 0.45185185],\n",
       "       [0.        , 0.71428571, 0.85925926],\n",
       "       [0.        , 0.69047619, 0.72592593],\n",
       "       [1.        , 0.71428571, 0.19259259],\n",
       "       [1.        , 0.66666667, 0.0962963 ],\n",
       "       [0.        , 0.97619048, 0.1037037 ],\n",
       "       [0.        , 0.83333333, 0.94814815],\n",
       "       [0.        , 0.35714286, 0.19259259],\n",
       "       [0.        , 0.57142857, 0.28148148],\n",
       "       [1.        , 0.0952381 , 0.48888889],\n",
       "       [1.        , 0.19047619, 0.        ],\n",
       "       [1.        , 0.19047619, 0.52592593],\n",
       "       [1.        , 0.23809524, 0.47407407],\n",
       "       [0.        , 0.04761905, 0.05925926],\n",
       "       [0.        , 0.85714286, 0.68888889],\n",
       "       [0.        , 0.21428571, 0.31851852],\n",
       "       [0.        , 0.        , 0.39259259],\n",
       "       [0.        , 0.54761905, 0.42222222],\n",
       "       [1.        , 0.35714286, 0.11851852],\n",
       "       [1.        , 0.4047619 , 0.08888889],\n",
       "       [1.        , 0.26190476, 0.98518519],\n",
       "       [0.        , 0.04761905, 0.15555556],\n",
       "       [1.        , 0.71428571, 0.13333333],\n",
       "       [1.        , 0.54761905, 0.53333333],\n",
       "       [0.        , 0.97619048, 0.5037037 ],\n",
       "       [0.        , 0.14285714, 0.54814815],\n",
       "       [1.        , 0.54761905, 0.22222222],\n",
       "       [0.        , 0.95238095, 0.05925926],\n",
       "       [1.        , 1.        , 0.5037037 ],\n",
       "       [1.        , 0.47619048, 0.41481481],\n",
       "       [0.        , 0.33333333, 0.75555556],\n",
       "       [0.        , 0.47619048, 0.2962963 ],\n",
       "       [0.        , 0.38095238, 0.42222222],\n",
       "       [1.        , 0.30952381, 0.37777778],\n",
       "       [1.        , 0.47619048, 0.34074074],\n",
       "       [1.        , 0.38095238, 0.71851852],\n",
       "       [1.        , 0.42857143, 0.33333333],\n",
       "       [1.        , 0.5       , 0.88148148],\n",
       "       [0.        , 0.35714286, 0.4       ],\n",
       "       [1.        , 0.57142857, 0.37037037],\n",
       "       [0.        , 0.76190476, 0.21481481],\n",
       "       [1.        , 0.28571429, 0.68148148],\n",
       "       [1.        , 0.69047619, 0.66666667],\n",
       "       [1.        , 0.85714286, 0.40740741],\n",
       "       [1.        , 1.        , 0.2       ],\n",
       "       [0.        , 0.92857143, 0.13333333],\n",
       "       [0.        , 1.        , 0.22962963],\n",
       "       [0.        , 0.4047619 , 0.37037037],\n",
       "       [0.        , 0.57142857, 0.40740741],\n",
       "       [1.        , 0.        , 0.4962963 ],\n",
       "       [0.        , 0.92857143, 0.08148148],\n",
       "       [0.        , 0.4047619 , 0.07407407],\n",
       "       [0.        , 0.57142857, 0.55555556],\n",
       "       [1.        , 0.73809524, 0.43703704],\n",
       "       [0.        , 0.52380952, 0.33333333],\n",
       "       [1.        , 0.9047619 , 0.87407407],\n",
       "       [1.        , 0.16666667, 0.48148148],\n",
       "       [1.        , 0.23809524, 0.12592593],\n",
       "       [0.        , 0.71428571, 0.91111111],\n",
       "       [0.        , 0.66666667, 0.43703704],\n",
       "       [1.        , 0.80952381, 1.        ],\n",
       "       [1.        , 0.69047619, 0.14074074],\n",
       "       [0.        , 0.21428571, 0.51111111],\n",
       "       [1.        , 0.30952381, 0.02222222],\n",
       "       [0.        , 0.69047619, 0.68148148],\n",
       "       [1.        , 0.33333333, 0.02222222],\n",
       "       [0.        , 0.66666667, 0.05185185],\n",
       "       [1.        , 0.16666667, 0.05185185],\n",
       "       [0.        , 0.30952381, 0.14074074],\n",
       "       [0.        , 0.45238095, 0.46666667],\n",
       "       [0.        , 0.33333333, 0.52592593],\n",
       "       [0.        , 0.4047619 , 0.25925926],\n",
       "       [0.        , 0.4047619 , 0.42222222],\n",
       "       [0.        , 0.80952381, 0.73333333],\n",
       "       [1.        , 0.71428571, 0.55555556],\n",
       "       [1.        , 0.54761905, 0.27407407],\n",
       "       [1.        , 0.95238095, 0.95555556],\n",
       "       [0.        , 0.35714286, 0.72592593],\n",
       "       [0.        , 0.26190476, 0.23703704],\n",
       "       [0.        , 0.30952381, 0.41481481],\n",
       "       [1.        , 0.26190476, 0.34074074],\n",
       "       [0.        , 0.30952381, 0.54814815],\n",
       "       [0.        , 0.19047619, 0.01481481],\n",
       "       [1.        , 0.4047619 , 0.2962963 ],\n",
       "       [1.        , 0.54761905, 0.42222222],\n",
       "       [0.        , 0.97619048, 0.54074074],\n",
       "       [0.        , 0.4047619 , 0.31111111],\n",
       "       [0.        , 0.61904762, 0.17777778],\n",
       "       [0.        , 0.45238095, 0.48148148],\n",
       "       [0.        , 0.97619048, 0.2       ],\n",
       "       [0.        , 0.42857143, 0.35555556],\n",
       "       [1.        , 0.52380952, 0.68148148],\n",
       "       [1.        , 0.83333333, 0.42222222],\n",
       "       [1.        , 0.57142857, 0.65925926],\n",
       "       [1.        , 0.26190476, 0.20740741],\n",
       "       [1.        , 0.69047619, 0.20740741],\n",
       "       [1.        , 0.57142857, 0.99259259],\n",
       "       [1.        , 0.73809524, 0.54074074],\n",
       "       [0.        , 0.54761905, 0.35555556],\n",
       "       [1.        , 0.28571429, 0.01481481],\n",
       "       [0.        , 0.45238095, 0.9037037 ],\n",
       "       [0.        , 0.35714286, 0.99259259],\n",
       "       [0.        , 0.54761905, 0.42222222],\n",
       "       [0.        , 0.95238095, 0.17037037],\n",
       "       [1.        , 0.28571429, 0.54814815],\n",
       "       [0.        , 0.21428571, 0.6       ],\n",
       "       [1.        , 0.19047619, 0.48148148],\n",
       "       [0.        , 0.38095238, 0.07407407],\n",
       "       [0.        , 0.66666667, 0.4962963 ],\n",
       "       [1.        , 0.23809524, 0.32592593],\n",
       "       [0.        , 0.0952381 , 0.2962963 ],\n",
       "       [0.        , 0.92857143, 0.79259259],\n",
       "       [1.        , 0.14285714, 0.2962963 ],\n",
       "       [1.        , 0.30952381, 0.31851852],\n",
       "       [1.        , 0.        , 0.27407407],\n",
       "       [0.        , 0.45238095, 0.34814815],\n",
       "       [1.        , 0.47619048, 0.26666667],\n",
       "       [1.        , 0.57142857, 0.48148148],\n",
       "       [0.        , 0.11904762, 0.4962963 ],\n",
       "       [0.        , 0.88095238, 0.81481481],\n",
       "       [1.        , 0.16666667, 0.53333333],\n",
       "       [0.        , 0.47619048, 0.72592593],\n",
       "       [1.        , 0.19047619, 0.12592593],\n",
       "       [0.        , 0.54761905, 0.48148148],\n",
       "       [1.        , 0.47619048, 0.32592593],\n",
       "       [0.        , 0.07142857, 0.39259259],\n",
       "       [1.        , 1.        , 0.14074074],\n",
       "       [0.        , 0.23809524, 0.53333333],\n",
       "       [0.        , 0.23809524, 0.51851852],\n",
       "       [0.        , 0.19047619, 0.51111111],\n",
       "       [1.        , 0.33333333, 0.02222222],\n",
       "       [0.        , 0.33333333, 0.88888889],\n",
       "       [0.        , 0.19047619, 0.42222222],\n",
       "       [0.        , 0.64285714, 0.22222222],\n",
       "       [1.        , 0.4047619 , 0.32592593],\n",
       "       [0.        , 0.5       , 0.34074074],\n",
       "       [0.        , 1.        , 0.68888889],\n",
       "       [1.        , 0.21428571, 0.54074074],\n",
       "       [1.        , 0.97619048, 0.85185185],\n",
       "       [1.        , 0.4047619 , 0.68888889],\n",
       "       [1.        , 0.23809524, 0.8       ],\n",
       "       [0.        , 0.95238095, 0.59259259],\n",
       "       [0.        , 0.64285714, 0.85925926],\n",
       "       [0.        , 0.69047619, 0.11111111],\n",
       "       [0.        , 0.45238095, 0.48148148],\n",
       "       [0.        , 0.21428571, 0.9037037 ],\n",
       "       [0.        , 0.54761905, 0.41481481],\n",
       "       [1.        , 0.66666667, 0.75555556],\n",
       "       [0.        , 0.80952381, 0.04444444],\n",
       "       [0.        , 0.47619048, 0.25925926]])"
      ]
     },
     "execution_count": 16,
     "metadata": {},
     "output_type": "execute_result"
    }
   ],
   "source": [
    "x_train"
   ]
  },
  {
   "cell_type": "code",
   "execution_count": 17,
   "metadata": {},
   "outputs": [],
   "source": [
    "from sklearn.neighbors import KNeighborsClassifier"
   ]
  },
  {
   "cell_type": "code",
   "execution_count": 18,
   "metadata": {},
   "outputs": [],
   "source": [
    "knn=KNeighborsClassifier(n_neighbors=5,p=2)"
   ]
  },
  {
   "cell_type": "code",
   "execution_count": 19,
   "metadata": {},
   "outputs": [
    {
     "data": {
      "text/plain": [
       "KNeighborsClassifier(algorithm='auto', leaf_size=30, metric='minkowski',\n",
       "           metric_params=None, n_jobs=1, n_neighbors=5, p=2,\n",
       "           weights='uniform')"
      ]
     },
     "execution_count": 19,
     "metadata": {},
     "output_type": "execute_result"
    }
   ],
   "source": [
    "knn.fit(x_train,y_train)"
   ]
  },
  {
   "cell_type": "code",
   "execution_count": 20,
   "metadata": {},
   "outputs": [],
   "source": [
    "y_pred=knn.predict(x_test)"
   ]
  },
  {
   "cell_type": "code",
   "execution_count": 21,
   "metadata": {},
   "outputs": [],
   "source": [
    "import sklearn.metrics as metrics"
   ]
  },
  {
   "cell_type": "code",
   "execution_count": 23,
   "metadata": {},
   "outputs": [
    {
     "data": {
      "text/plain": [
       "0.925"
      ]
     },
     "execution_count": 23,
     "metadata": {},
     "output_type": "execute_result"
    }
   ],
   "source": [
    "metrics.accuracy_score(y_test,y_pred)"
   ]
  },
  {
   "cell_type": "code",
   "execution_count": 24,
   "metadata": {},
   "outputs": [],
   "source": [
    "fpr,tpr,threshold=metrics.roc_curve(y_test,y_pred)"
   ]
  },
  {
   "cell_type": "code",
   "execution_count": 25,
   "metadata": {},
   "outputs": [],
   "source": [
    "roc_auc=metrics.auc(fpr,tpr)"
   ]
  },
  {
   "cell_type": "code",
   "execution_count": 26,
   "metadata": {},
   "outputs": [
    {
     "data": {
      "text/plain": [
       "0.9175824175824175"
      ]
     },
     "execution_count": 26,
     "metadata": {},
     "output_type": "execute_result"
    }
   ],
   "source": [
    "roc_auc"
   ]
  },
  {
   "cell_type": "code",
   "execution_count": 27,
   "metadata": {},
   "outputs": [],
   "source": [
    "confusion=metrics.confusion_matrix(y_test,y_pred)"
   ]
  },
  {
   "cell_type": "code",
   "execution_count": 28,
   "metadata": {},
   "outputs": [
    {
     "data": {
      "text/html": [
       "<div>\n",
       "<style scoped>\n",
       "    .dataframe tbody tr th:only-of-type {\n",
       "        vertical-align: middle;\n",
       "    }\n",
       "\n",
       "    .dataframe tbody tr th {\n",
       "        vertical-align: top;\n",
       "    }\n",
       "\n",
       "    .dataframe thead th {\n",
       "        text-align: right;\n",
       "    }\n",
       "</style>\n",
       "<table border=\"1\" class=\"dataframe\">\n",
       "  <thead>\n",
       "    <tr style=\"text-align: right;\">\n",
       "      <th></th>\n",
       "      <th>Not Purchased</th>\n",
       "      <th>Purchased</th>\n",
       "    </tr>\n",
       "  </thead>\n",
       "  <tbody>\n",
       "    <tr>\n",
       "      <th>Not Purchased</th>\n",
       "      <td>49</td>\n",
       "      <td>3</td>\n",
       "    </tr>\n",
       "    <tr>\n",
       "      <th>Purchased</th>\n",
       "      <td>3</td>\n",
       "      <td>25</td>\n",
       "    </tr>\n",
       "  </tbody>\n",
       "</table>\n",
       "</div>"
      ],
      "text/plain": [
       "               Not Purchased  Purchased\n",
       "Not Purchased             49          3\n",
       "Purchased                  3         25"
      ]
     },
     "execution_count": 28,
     "metadata": {},
     "output_type": "execute_result"
    }
   ],
   "source": [
    "pd.DataFrame(confusion,columns=[\"Not Purchased\",\"Purchased\"],index=[\"Not Purchased\",\"Purchased\"])"
   ]
  },
  {
   "cell_type": "code",
   "execution_count": 29,
   "metadata": {},
   "outputs": [
    {
     "data": {
      "image/png": "[encoded data removed]",
      "text/plain": [
       "<Figure size 432x288 with 1 Axes>"
      ]
     },
     "metadata": {},
     "output_type": "display_data"
    }
   ],
   "source": [
    "plt.title(\"Receiver Operating Characteristic\")\n",
    "plt.plot(fpr,tpr,color='b',label='AUC = %0.2f' % roc_auc)\n",
    "plt.legend(loc='lower right')\n",
    "plt.xlim([0,1])\n",
    "plt.ylim([0,1])\n",
    "plt.ylabel(\"TPR\")\n",
    "plt.xlabel(\"FPR\")\n",
    "plt.show()"
   ]
  },
  {
   "cell_type": "code",
   "execution_count": null,
   "metadata": {},
   "outputs": [],
   "source": []
  }
 ],
 "metadata": {
  "kernelspec": {
   "display_name": "Python 3",
   "language": "python",
   "name": "python3"
  },
  "language_info": {
   "codemirror_mode": {
    "name": "ipython",
    "version": 3
   },
   "file_extension": ".py",
   "mimetype": "text/x-python",
   "name": "python",
   "nbconvert_exporter": "python",
   "pygments_lexer": "ipython3",
   "version": "3.6.5"
  }
 },
 "nbformat": 4,
 "nbformat_minor": 2
}
